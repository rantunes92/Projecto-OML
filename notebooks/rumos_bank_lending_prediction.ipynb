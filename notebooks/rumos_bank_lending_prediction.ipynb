{
 "cells": [
  {
   "cell_type": "markdown",
   "metadata": {
    "id": "W41gagYVoTXS"
   },
   "source": [
    "# Final Exercice: The Rumos Bank \n",
    "\n",
    "The Rumos Bank é um banco que tem perdido bastante dinheiro devido à quantidade de créditos que fornece e que não são pagos dentro do prazo devido. \n",
    "\n",
    "    - Por cada cliente que se estima que não irá  pagar dentro do prazo e afinal paga, o banco tem um custo de 1000euros. \n",
    "\n",
    "    - Por cada cliente que se prevê como sendo um bom pagador e afinal não paga dentro do prazo, o banco tem um custo de 3000euros.\n",
    "\n",
    "\n",
    "Vocês, data scientists de topo,  são contratados para ajudar o banco a prever quais os clientes que não irão cumprir os prazos, para que este consiga uma melhor gestão dos fundos.\n",
    "\n",
    "Conseguem construir um modelo que ajude a detectar previamente e com sucesso os clientes que são maus pagadores?\n"
   ]
  },
  {
   "cell_type": "markdown",
   "metadata": {
    "id": "JYU-jH7AoTXT"
   },
   "source": [
    "Dataset: https://www.kaggle.com/uciml/default-of-credit-card-clients-dataset\n",
    "\n",
    "Variáveis disponíveis:\n",
    "\n",
    "    ID: ID of each client\n",
    "    LIMIT_BAL: Amount of given credit in NT dollars (includes individual and family/supplementary credit\n",
    "    SEX: Gender (1=male, 2=female)\n",
    "    EDUCATION: (1=graduate school, 2=university, 3=high school, 4=others, 5=unknown, 6=unknown)\n",
    "    MARRIAGE: Marital status (1=married, 2=single, 3=others)\n",
    "    AGE: Age in years\n",
    "    PAY_0: Repayment status in September, 2005 (-1=pay duly, 1=payment delay for one month, 2=payment delay for two months, ... 8=payment delay for eight months, 9=payment delay for nine months and above)\n",
    "    PAY_2: Repayment status in August, 2005 (scale same as above)\n",
    "    PAY_3: Repayment status in July, 2005 (scale same as above)\n",
    "    PAY_4: Repayment status in June, 2005 (scale same as above)\n",
    "    PAY_5: Repayment status in May, 2005 (scale same as above)\n",
    "    PAY_6: Repayment status in April, 2005 (scale same as above)\n",
    "    BILL_AMT1: Amount of bill statement in September, 2005 (NT dollar)\n",
    "    BILL_AMT2: Amount of bill statement in August, 2005 (NT dollar)\n",
    "    BILL_AMT3: Amount of bill statement in July, 2005 (NT dollar)\n",
    "    BILL_AMT4: Amount of bill statement in June, 2005 (NT dollar)\n",
    "    BILL_AMT5: Amount of bill statement in May, 2005 (NT dollar)\n",
    "    BILL_AMT6: Amount of bill statement in April, 2005 (NT dollar)\n",
    "    PAY_AMT1: Amount of previous payment in September, 2005 (NT dollar)\n",
    "    PAY_AMT2: Amount of previous payment in August, 2005 (NT dollar)\n",
    "    PAY_AMT3: Amount of previous payment in July, 2005 (NT dollar)\n",
    "    PAY_AMT4: Amount of previous payment in June, 2005 (NT dollar)\n",
    "    PAY_AMT5: Amount of previous payment in May, 2005 (NT dollar)\n",
    "    PAY_AMT6: Amount of previous payment in April, 2005 (NT dollar)\n",
    "    default.payment.next.month: Default payment (1=yes, 0=no)"
   ]
  },
  {
   "cell_type": "markdown",
   "metadata": {
    "id": "nVoQ5Qa8oTXU"
   },
   "source": [
    "#### Perguntas:\n",
    "\n",
    "    1. Quantas features estão disponíveis? Quantos clientes?\n",
    "    2. Quantos clientes têm no dataset que efectivamente foram maus pagadores? E quantos não foram?\n",
    "    3. Qual o modelo que levou a melhores resultados? Qual a métrica usada para comparar os diferentes modelos?\n",
    "    4. Quais são as features mais relevantes para decidir se um cliente tem mais propensão para ser mau pagador?\n",
    "    5. Qual seria o custo que o banco tem sem nenhum modelo?\n",
    "    6. Qual o custo que o banco passa a tar com o vosso modelo?"
   ]
  },
  {
   "cell_type": "markdown",
   "metadata": {
    "id": "B2_4cQvxoTXU"
   },
   "source": [
    "Com base na informação dada, podemos definir que:\n",
    "\n",
    "    True positive - Os maus pagadores são identificados correctamente.\n",
    "    True negative - Os bons pagadores são identificados correctamente.\n",
    "    False positive - Um bom pagador é identificado como sendo um mau pagador.\n",
    "    False negative - Um mau pagador é identificado como sendo um bom pagador."
   ]
  },
  {
   "cell_type": "code",
   "execution_count": 1,
   "metadata": {
    "colab": {
     "base_uri": "https://localhost:8080/",
     "height": 124
    },
    "id": "Y-MpSlfSoU8B",
    "outputId": "4b247912-e327-47ae-e366-a95f0888815d"
   },
   "outputs": [],
   "source": [
    "root_path = '../data/'"
   ]
  },
  {
   "cell_type": "code",
   "execution_count": 2,
   "metadata": {
    "id": "Z4MjCm3SoTXV"
   },
   "outputs": [],
   "source": [
    "import pandas as pd\n",
    "import numpy as np\n",
    "import matplotlib.pyplot as plt\n",
    "from sklearn.metrics import  precision_recall_curve, roc_auc_score, confusion_matrix, accuracy_score, recall_score, precision_score, f1_score,auc, roc_curve\n",
    "import pandas as pd\n",
    "from sklearn.model_selection import train_test_split\n",
    "from sklearn.preprocessing import MinMaxScaler\n",
    "from sklearn.model_selection import GridSearchCV\n",
    "from sklearn.ensemble import RandomForestClassifier\n",
    "from sklearn.linear_model import LogisticRegression\n",
    "from sklearn.neighbors import KNeighborsClassifier\n",
    "from sklearn.svm import SVC\n",
    "from sklearn import tree\n",
    "from sklearn.linear_model import Perceptron\n",
    "from sklearn.neural_network import MLPClassifier\n",
    "\n",
    "seed = 42"
   ]
  },
  {
   "cell_type": "code",
   "execution_count": 37,
   "metadata": {
    "id": "X9ipTbvyoTXX"
   },
   "outputs": [],
   "source": [
    "df = pd.read_csv(root_path + 'lending_data.csv')"
   ]
  },
  {
   "cell_type": "code",
   "execution_count": 38,
   "metadata": {
    "colab": {
     "base_uri": "https://localhost:8080/",
     "height": 35
    },
    "id": "12BupRYpoTXZ",
    "outputId": "65933b5b-971b-45cc-c709-8ad6fadf5292"
   },
   "outputs": [
    {
     "data": {
      "text/plain": [
       "(30000, 25)"
      ]
     },
     "execution_count": 38,
     "metadata": {},
     "output_type": "execute_result"
    }
   ],
   "source": [
    "df.shape"
   ]
  },
  {
   "cell_type": "code",
   "execution_count": 39,
   "metadata": {
    "colab": {
     "base_uri": "https://localhost:8080/",
     "height": 222
    },
    "id": "Mp3_eARGoTXd",
    "outputId": "8c403771-8569-42b2-b140-3536b40f79fb"
   },
   "outputs": [
    {
     "data": {
      "text/html": [
       "<div>\n",
       "<style scoped>\n",
       "    .dataframe tbody tr th:only-of-type {\n",
       "        vertical-align: middle;\n",
       "    }\n",
       "\n",
       "    .dataframe tbody tr th {\n",
       "        vertical-align: top;\n",
       "    }\n",
       "\n",
       "    .dataframe thead th {\n",
       "        text-align: right;\n",
       "    }\n",
       "</style>\n",
       "<table border=\"1\" class=\"dataframe\">\n",
       "  <thead>\n",
       "    <tr style=\"text-align: right;\">\n",
       "      <th></th>\n",
       "      <th>ID</th>\n",
       "      <th>LIMIT_BAL</th>\n",
       "      <th>SEX</th>\n",
       "      <th>EDUCATION</th>\n",
       "      <th>MARRIAGE</th>\n",
       "      <th>AGE</th>\n",
       "      <th>PAY_0</th>\n",
       "      <th>PAY_2</th>\n",
       "      <th>PAY_3</th>\n",
       "      <th>PAY_4</th>\n",
       "      <th>...</th>\n",
       "      <th>BILL_AMT4</th>\n",
       "      <th>BILL_AMT5</th>\n",
       "      <th>BILL_AMT6</th>\n",
       "      <th>PAY_AMT1</th>\n",
       "      <th>PAY_AMT2</th>\n",
       "      <th>PAY_AMT3</th>\n",
       "      <th>PAY_AMT4</th>\n",
       "      <th>PAY_AMT5</th>\n",
       "      <th>PAY_AMT6</th>\n",
       "      <th>default.payment.next.month</th>\n",
       "    </tr>\n",
       "  </thead>\n",
       "  <tbody>\n",
       "    <tr>\n",
       "      <th>0</th>\n",
       "      <td>1</td>\n",
       "      <td>20000.0</td>\n",
       "      <td>2</td>\n",
       "      <td>2</td>\n",
       "      <td>1</td>\n",
       "      <td>24</td>\n",
       "      <td>2</td>\n",
       "      <td>2</td>\n",
       "      <td>-1</td>\n",
       "      <td>-1</td>\n",
       "      <td>...</td>\n",
       "      <td>0.0</td>\n",
       "      <td>0.0</td>\n",
       "      <td>0.0</td>\n",
       "      <td>0.0</td>\n",
       "      <td>689.0</td>\n",
       "      <td>0.0</td>\n",
       "      <td>0.0</td>\n",
       "      <td>0.0</td>\n",
       "      <td>0.0</td>\n",
       "      <td>1</td>\n",
       "    </tr>\n",
       "    <tr>\n",
       "      <th>1</th>\n",
       "      <td>2</td>\n",
       "      <td>120000.0</td>\n",
       "      <td>2</td>\n",
       "      <td>2</td>\n",
       "      <td>2</td>\n",
       "      <td>26</td>\n",
       "      <td>-1</td>\n",
       "      <td>2</td>\n",
       "      <td>0</td>\n",
       "      <td>0</td>\n",
       "      <td>...</td>\n",
       "      <td>3272.0</td>\n",
       "      <td>3455.0</td>\n",
       "      <td>3261.0</td>\n",
       "      <td>0.0</td>\n",
       "      <td>1000.0</td>\n",
       "      <td>1000.0</td>\n",
       "      <td>1000.0</td>\n",
       "      <td>0.0</td>\n",
       "      <td>2000.0</td>\n",
       "      <td>1</td>\n",
       "    </tr>\n",
       "    <tr>\n",
       "      <th>2</th>\n",
       "      <td>3</td>\n",
       "      <td>90000.0</td>\n",
       "      <td>2</td>\n",
       "      <td>2</td>\n",
       "      <td>2</td>\n",
       "      <td>34</td>\n",
       "      <td>0</td>\n",
       "      <td>0</td>\n",
       "      <td>0</td>\n",
       "      <td>0</td>\n",
       "      <td>...</td>\n",
       "      <td>14331.0</td>\n",
       "      <td>14948.0</td>\n",
       "      <td>15549.0</td>\n",
       "      <td>1518.0</td>\n",
       "      <td>1500.0</td>\n",
       "      <td>1000.0</td>\n",
       "      <td>1000.0</td>\n",
       "      <td>1000.0</td>\n",
       "      <td>5000.0</td>\n",
       "      <td>0</td>\n",
       "    </tr>\n",
       "    <tr>\n",
       "      <th>3</th>\n",
       "      <td>4</td>\n",
       "      <td>50000.0</td>\n",
       "      <td>2</td>\n",
       "      <td>2</td>\n",
       "      <td>1</td>\n",
       "      <td>37</td>\n",
       "      <td>0</td>\n",
       "      <td>0</td>\n",
       "      <td>0</td>\n",
       "      <td>0</td>\n",
       "      <td>...</td>\n",
       "      <td>28314.0</td>\n",
       "      <td>28959.0</td>\n",
       "      <td>29547.0</td>\n",
       "      <td>2000.0</td>\n",
       "      <td>2019.0</td>\n",
       "      <td>1200.0</td>\n",
       "      <td>1100.0</td>\n",
       "      <td>1069.0</td>\n",
       "      <td>1000.0</td>\n",
       "      <td>0</td>\n",
       "    </tr>\n",
       "    <tr>\n",
       "      <th>4</th>\n",
       "      <td>5</td>\n",
       "      <td>50000.0</td>\n",
       "      <td>1</td>\n",
       "      <td>2</td>\n",
       "      <td>1</td>\n",
       "      <td>57</td>\n",
       "      <td>-1</td>\n",
       "      <td>0</td>\n",
       "      <td>-1</td>\n",
       "      <td>0</td>\n",
       "      <td>...</td>\n",
       "      <td>20940.0</td>\n",
       "      <td>19146.0</td>\n",
       "      <td>19131.0</td>\n",
       "      <td>2000.0</td>\n",
       "      <td>36681.0</td>\n",
       "      <td>10000.0</td>\n",
       "      <td>9000.0</td>\n",
       "      <td>689.0</td>\n",
       "      <td>679.0</td>\n",
       "      <td>0</td>\n",
       "    </tr>\n",
       "  </tbody>\n",
       "</table>\n",
       "<p>5 rows × 25 columns</p>\n",
       "</div>"
      ],
      "text/plain": [
       "   ID  LIMIT_BAL  SEX  EDUCATION  MARRIAGE  AGE  PAY_0  PAY_2  PAY_3  PAY_4  \\\n",
       "0   1    20000.0    2          2         1   24      2      2     -1     -1   \n",
       "1   2   120000.0    2          2         2   26     -1      2      0      0   \n",
       "2   3    90000.0    2          2         2   34      0      0      0      0   \n",
       "3   4    50000.0    2          2         1   37      0      0      0      0   \n",
       "4   5    50000.0    1          2         1   57     -1      0     -1      0   \n",
       "\n",
       "   ...  BILL_AMT4  BILL_AMT5  BILL_AMT6  PAY_AMT1  PAY_AMT2  PAY_AMT3  \\\n",
       "0  ...        0.0        0.0        0.0       0.0     689.0       0.0   \n",
       "1  ...     3272.0     3455.0     3261.0       0.0    1000.0    1000.0   \n",
       "2  ...    14331.0    14948.0    15549.0    1518.0    1500.0    1000.0   \n",
       "3  ...    28314.0    28959.0    29547.0    2000.0    2019.0    1200.0   \n",
       "4  ...    20940.0    19146.0    19131.0    2000.0   36681.0   10000.0   \n",
       "\n",
       "   PAY_AMT4  PAY_AMT5  PAY_AMT6  default.payment.next.month  \n",
       "0       0.0       0.0       0.0                           1  \n",
       "1    1000.0       0.0    2000.0                           1  \n",
       "2    1000.0    1000.0    5000.0                           0  \n",
       "3    1100.0    1069.0    1000.0                           0  \n",
       "4    9000.0     689.0     679.0                           0  \n",
       "\n",
       "[5 rows x 25 columns]"
      ]
     },
     "execution_count": 39,
     "metadata": {},
     "output_type": "execute_result"
    }
   ],
   "source": [
    "df.head()"
   ]
  },
  {
   "cell_type": "code",
   "execution_count": 40,
   "metadata": {
    "colab": {
     "base_uri": "https://localhost:8080/",
     "height": 35
    },
    "id": "0lJt8GJcoTXk",
    "outputId": "dd54489b-beb1-44b3-ae4b-9741da84dfdd"
   },
   "outputs": [
    {
     "data": {
      "text/plain": [
       "30000"
      ]
     },
     "execution_count": 40,
     "metadata": {},
     "output_type": "execute_result"
    }
   ],
   "source": [
    "df.ID.nunique()"
   ]
  },
  {
   "cell_type": "markdown",
   "metadata": {
    "id": "sqAFRENhoTXm"
   },
   "source": [
    "#### 1. Quantas features estão disponíveis? Quantos clientes?\n",
    "\n",
    "    - Existem 24 features disponíveis no dataset.\n",
    "    - Existem 30000 clientes."
   ]
  },
  {
   "cell_type": "markdown",
   "metadata": {
    "id": "3YbHArONoTXn"
   },
   "source": [
    "Existem missing values?"
   ]
  },
  {
   "cell_type": "code",
   "execution_count": 7,
   "metadata": {
    "colab": {
     "base_uri": "https://localhost:8080/",
     "height": 35
    },
    "id": "BQ6pba_toTXn",
    "outputId": "21213044-1145-47f8-b782-aa960d4b6423"
   },
   "outputs": [
    {
     "data": {
      "text/plain": [
       "False"
      ]
     },
     "execution_count": 7,
     "metadata": {},
     "output_type": "execute_result"
    }
   ],
   "source": [
    "df.isnull().values.any()"
   ]
  },
  {
   "cell_type": "markdown",
   "metadata": {
    "id": "sxP492KgoTXp"
   },
   "source": [
    "Existem o mesmo número de clientes nas duas classes?"
   ]
  },
  {
   "cell_type": "code",
   "execution_count": 8,
   "metadata": {
    "colab": {
     "base_uri": "https://localhost:8080/",
     "height": 87
    },
    "id": "GmTJYjZIoTXq",
    "outputId": "9fe95444-71ac-4f20-81fe-05cd14980f72"
   },
   "outputs": [
    {
     "data": {
      "text/plain": [
       "default.payment.next.month\n",
       "0    23364\n",
       "1     6636\n",
       "Name: default.payment.next.month, dtype: int64"
      ]
     },
     "execution_count": 8,
     "metadata": {},
     "output_type": "execute_result"
    }
   ],
   "source": [
    "df.groupby('default.payment.next.month')['default.payment.next.month'].count()"
   ]
  },
  {
   "cell_type": "markdown",
   "metadata": {
    "id": "DBOZGu0MoTXs"
   },
   "source": [
    "Não! O dataset é altamente desequilibrado.\n",
    "\n",
    "#### 2. Quantos clientes têm no dataset que efectivamente foram maus pagadores? E quantos não foram?\n",
    "\n",
    "    - 23,364 foram bons pagadores. 6,636 foram maus pagadores."
   ]
  },
  {
   "cell_type": "markdown",
   "metadata": {
    "id": "-0L7ahP1oTXt"
   },
   "source": [
    "Existem features não númericas?"
   ]
  },
  {
   "cell_type": "code",
   "execution_count": 10,
   "metadata": {
    "colab": {
     "base_uri": "https://localhost:8080/",
     "height": 468
    },
    "id": "rei2UvwboTXu",
    "outputId": "d9a0fa2d-ed30-48ff-e479-7de51bcf2234"
   },
   "outputs": [
    {
     "data": {
      "text/plain": [
       "ID                              int64\n",
       "LIMIT_BAL                     float64\n",
       "SEX                             int64\n",
       "EDUCATION                       int64\n",
       "MARRIAGE                        int64\n",
       "AGE                             int64\n",
       "PAY_0                           int64\n",
       "PAY_2                           int64\n",
       "PAY_3                           int64\n",
       "PAY_4                           int64\n",
       "PAY_5                           int64\n",
       "PAY_6                           int64\n",
       "BILL_AMT1                     float64\n",
       "BILL_AMT2                     float64\n",
       "BILL_AMT3                     float64\n",
       "BILL_AMT4                     float64\n",
       "BILL_AMT5                     float64\n",
       "BILL_AMT6                     float64\n",
       "PAY_AMT1                      float64\n",
       "PAY_AMT2                      float64\n",
       "PAY_AMT3                      float64\n",
       "PAY_AMT4                      float64\n",
       "PAY_AMT5                      float64\n",
       "PAY_AMT6                      float64\n",
       "default.payment.next.month      int64\n",
       "dtype: object"
      ]
     },
     "execution_count": 10,
     "metadata": {},
     "output_type": "execute_result"
    }
   ],
   "source": [
    "df.dtypes"
   ]
  },
  {
   "cell_type": "markdown",
   "metadata": {
    "id": "6lv_holtoTXx"
   },
   "source": [
    "Todas as features são númericas.\n",
    "\n",
    "Vamos retirar o ID do cliente:"
   ]
  },
  {
   "cell_type": "code",
   "execution_count": 11,
   "metadata": {
    "id": "bS6_8IecoTXx"
   },
   "outputs": [],
   "source": [
    "df = df.drop('ID', axis = 1)"
   ]
  },
  {
   "cell_type": "markdown",
   "metadata": {
    "id": "1nNKn5KeoTXz"
   },
   "source": [
    "Vamos então dividir o dataset em treino e teste:"
   ]
  },
  {
   "cell_type": "code",
   "execution_count": null,
   "metadata": {
    "id": "cjfA10IboTX0"
   },
   "outputs": [],
   "source": [
    "train_set, test_set = train_test_split(df, test_size = 0.2, random_state = seed)"
   ]
  },
  {
   "cell_type": "code",
   "execution_count": 13,
   "metadata": {
    "id": "-6k8pIbEoTX2"
   },
   "outputs": [],
   "source": [
    "X_train = train_set.drop(['default.payment.next.month'], axis = 'columns')\n",
    "y_train = train_set['default.payment.next.month']\n",
    "\n",
    "X_test = test_set.drop(['default.payment.next.month'], axis = 1)\n",
    "y_test = test_set['default.payment.next.month']"
   ]
  },
  {
   "cell_type": "markdown",
   "metadata": {
    "id": "1t0TwGgGoTX4"
   },
   "source": [
    "Normalização:"
   ]
  },
  {
   "cell_type": "code",
   "execution_count": 14,
   "metadata": {
    "id": "iTFYPGnloTX4"
   },
   "outputs": [],
   "source": [
    "scaler = MinMaxScaler()\n",
    "\n",
    "features_names = X_train.columns\n",
    "\n",
    "X_train = scaler.fit_transform(X_train)\n",
    "X_train = pd.DataFrame(X_train, columns = features_names)\n",
    "\n",
    "X_test = scaler.transform(X_test)\n",
    "X_test = pd.DataFrame(X_test, columns = features_names)"
   ]
  },
  {
   "cell_type": "markdown",
   "metadata": {
    "id": "4PBykJJpoTX7"
   },
   "source": [
    "Antes de iniciar, vamos calcular a baseline, ou seja, o custo que temos sem nenhum modelo.\n",
    "\n",
    "$$totalCost = 1000∗FP+3000∗FN$$"
   ]
  },
  {
   "cell_type": "code",
   "execution_count": 15,
   "metadata": {
    "id": "AKL-L-7moTX7"
   },
   "outputs": [],
   "source": [
    "y_preds_all_bad = np.ones(y_test.shape) "
   ]
  },
  {
   "cell_type": "code",
   "execution_count": 16,
   "metadata": {
    "colab": {
     "base_uri": "https://localhost:8080/",
     "height": 87
    },
    "id": "2UyI8OkVoTX-",
    "outputId": "2e853506-14ca-4165-d945-eee653eb97da"
   },
   "outputs": [
    {
     "name": "stdout",
     "output_type": "stream",
     "text": [
      "Number of True Negatives: 0\n",
      "Number of True Positives: 1313\n",
      "Number of False Negatives: 0\n",
      "Number of False Positives: 4687\n"
     ]
    }
   ],
   "source": [
    "tn, fp, fn, tp = confusion_matrix(y_test, y_preds_all_bad).ravel()\n",
    "\n",
    "print('Number of True Negatives:', tn)\n",
    "print('Number of True Positives:', tp)\n",
    "print('Number of False Negatives:', fn)\n",
    "print('Number of False Positives:', fp)"
   ]
  },
  {
   "cell_type": "code",
   "execution_count": 18,
   "metadata": {
    "colab": {
     "base_uri": "https://localhost:8080/",
     "height": 35
    },
    "id": "Wojzq6oDoTYB",
    "outputId": "a8319123-54ab-4237-fb86-3a512e066acb"
   },
   "outputs": [
    {
     "name": "stdout",
     "output_type": "stream",
     "text": [
      "Total Cost: 4687000\n"
     ]
    }
   ],
   "source": [
    "print('Total Cost:', fp*1000)"
   ]
  },
  {
   "cell_type": "code",
   "execution_count": 19,
   "metadata": {
    "colab": {
     "base_uri": "https://localhost:8080/",
     "height": 35
    },
    "id": "MWa7w4BZoTYE",
    "outputId": "80964cf4-34de-4fdc-ae02-eace4973d724"
   },
   "outputs": [
    {
     "data": {
      "text/plain": [
       "0.21883333333333332"
      ]
     },
     "execution_count": 19,
     "metadata": {},
     "output_type": "execute_result"
    }
   ],
   "source": [
    "accuracy_score(y_test, y_preds_all_bad)"
   ]
  },
  {
   "cell_type": "markdown",
   "metadata": {
    "id": "adm4iMnooTYH"
   },
   "source": [
    "Se todos os clientes fossem considerados como maus pagadores, o banco teria um custo de 4,687,000 Euros."
   ]
  },
  {
   "cell_type": "code",
   "execution_count": 20,
   "metadata": {
    "colab": {
     "base_uri": "https://localhost:8080/",
     "height": 87
    },
    "id": "qljaMtZmoTYI",
    "outputId": "21519186-ac27-47ba-bed6-3303e2e907cd"
   },
   "outputs": [
    {
     "name": "stdout",
     "output_type": "stream",
     "text": [
      "Number of True Negatives: 4687\n",
      "Number of True Positives: 0\n",
      "Number of False Negatives: 1313\n",
      "Number of False Positives: 0\n"
     ]
    }
   ],
   "source": [
    "y_preds_all_good = np.zeros(y_test.shape) \n",
    "\n",
    "tn, fp, fn, tp = confusion_matrix(y_test, y_preds_all_good).ravel()\n",
    "\n",
    "print('Number of True Negatives:', tn)\n",
    "print('Number of True Positives:', tp)\n",
    "print('Number of False Negatives:', fn)\n",
    "print('Number of False Positives:', fp)"
   ]
  },
  {
   "cell_type": "code",
   "execution_count": 21,
   "metadata": {
    "colab": {
     "base_uri": "https://localhost:8080/",
     "height": 35
    },
    "id": "BL5U0I2xoTYL",
    "outputId": "289f031d-c9b4-4b25-d640-eb5e234884cf"
   },
   "outputs": [
    {
     "name": "stdout",
     "output_type": "stream",
     "text": [
      "Total Cost: 3939000\n"
     ]
    }
   ],
   "source": [
    "print('Total Cost:', fn*3000)"
   ]
  },
  {
   "cell_type": "code",
   "execution_count": 22,
   "metadata": {
    "colab": {
     "base_uri": "https://localhost:8080/",
     "height": 35
    },
    "id": "BsF5qd42oTYO",
    "outputId": "23f39bfc-63b6-495d-ccba-964af157aa63"
   },
   "outputs": [
    {
     "data": {
      "text/plain": [
       "0.7811666666666667"
      ]
     },
     "execution_count": 22,
     "metadata": {},
     "output_type": "execute_result"
    }
   ],
   "source": [
    "accuracy_score(y_test, y_preds_all_good)"
   ]
  },
  {
   "cell_type": "markdown",
   "metadata": {
    "id": "mFTIDzoxoTYQ"
   },
   "source": [
    "Se todos os clientes fossem considerados bons pagadores, o banco teria um custo de 3,939,000 Euros."
   ]
  },
  {
   "cell_type": "code",
   "execution_count": 23,
   "metadata": {
    "id": "rM-AwWw_oTYQ"
   },
   "outputs": [],
   "source": [
    "def total_cost(y_test, y_preds, threshold = 0.5):\n",
    "    \n",
    "    tn, fp, fn, tp = confusion_matrix(y_test == 1, y_preds > threshold).ravel()\n",
    "    \n",
    "    cost_fn = fn*3000\n",
    "    cost_fp = fp*1000\n",
    "    \n",
    "    return cost_fn + cost_fp\n",
    "    "
   ]
  },
  {
   "cell_type": "code",
   "execution_count": 24,
   "metadata": {
    "id": "TqKsBVjNoTYS"
   },
   "outputs": [],
   "source": [
    "def min_cost_threshold(y_test, y_preds):\n",
    "    \n",
    "    costs = {}\n",
    "    \n",
    "    for threshold in np.arange(0, 1.1, 0.1):\n",
    "        \n",
    "        costs[round(threshold, 1)] = total_cost(y_test, y_preds, threshold = threshold)\n",
    "        \n",
    "    plt.plot(list(costs.keys()), list(costs.values()))\n",
    "    plt.ylabel('Cost')\n",
    "    plt.xlabel('Threshold')\n",
    "    plt.show()\n",
    "    "
   ]
  },
  {
   "cell_type": "markdown",
   "metadata": {
    "id": "tUhtD10ioTYV"
   },
   "source": [
    "#### Logistic Regression"
   ]
  },
  {
   "cell_type": "code",
   "execution_count": 25,
   "metadata": {
    "colab": {
     "base_uri": "https://localhost:8080/",
     "height": 52
    },
    "id": "vZbw7d4RoTYV",
    "outputId": "82949b78-7c26-448a-e125-83404034d2a7"
   },
   "outputs": [
    {
     "name": "stdout",
     "output_type": "stream",
     "text": [
      "CPU times: user 3.27 s, sys: 536 ms, total: 3.81 s\n",
      "Wall time: 2.03 s\n"
     ]
    }
   ],
   "source": [
    "%%time\n",
    "lr = LogisticRegression(max_iter = 500, solver = 'lbfgs', random_state = seed, class_weight = 'balanced' )\n",
    "\n",
    "parameters = {'C':[0.001, 0.01, 0.1, 1, 10, 100]}\n",
    "\n",
    "clf_lr = GridSearchCV(lr, parameters, cv = 5).fit(X_train, y_train)"
   ]
  },
  {
   "cell_type": "code",
   "execution_count": 26,
   "metadata": {
    "id": "YN0xhhfMoTYY",
    "outputId": "9daf3c3d-090e-4a9b-d7f5-6c7a71528c51"
   },
   "outputs": [
    {
     "data": {
      "text/plain": [
       "0.6936666666666667"
      ]
     },
     "execution_count": 26,
     "metadata": {},
     "output_type": "execute_result"
    }
   ],
   "source": [
    "clf_lr.score(X_test, y_test)"
   ]
  },
  {
   "cell_type": "code",
   "execution_count": 27,
   "metadata": {
    "id": "trDVn5ScoTYZ"
   },
   "outputs": [],
   "source": [
    "y_preds = clf_lr.predict_proba(X_test)[:,1]"
   ]
  },
  {
   "cell_type": "code",
   "execution_count": 28,
   "metadata": {
    "id": "NdqoRb4toTYb",
    "outputId": "b40daf1f-8e3e-4b23-f277-c1ab1f196533"
   },
   "outputs": [
    {
     "data": {
      "text/plain": [
       "2852000"
      ]
     },
     "execution_count": 28,
     "metadata": {},
     "output_type": "execute_result"
    }
   ],
   "source": [
    "total_cost(y_test, y_preds, threshold = 0.5)"
   ]
  },
  {
   "cell_type": "code",
   "execution_count": 29,
   "metadata": {
    "id": "jSX9MLacoTYg",
    "outputId": "5c34ec4a-a831-4339-ed0f-7d7fcccf8e01"
   },
   "outputs": [
    {
     "data": {
      "image/png": "[encoded data removed]",
      "text/plain": [
       "<Figure size 640x480 with 1 Axes>"
      ]
     },
     "metadata": {},
     "output_type": "display_data"
    }
   ],
   "source": [
    "min_cost_threshold(y_test, y_preds)"
   ]
  },
  {
   "cell_type": "code",
   "execution_count": 30,
   "metadata": {
    "id": "KeBzrlRgoTYh",
    "outputId": "a62879dd-a5a1-4e00-c3cb-98225077c015"
   },
   "outputs": [
    {
     "data": {
      "text/plain": [
       "2646000"
      ]
     },
     "execution_count": 30,
     "metadata": {},
     "output_type": "execute_result"
    }
   ],
   "source": [
    "total_cost(y_test, y_preds, threshold = 0.6)"
   ]
  },
  {
   "cell_type": "markdown",
   "metadata": {
    "id": "56g_4J97oTYj"
   },
   "source": [
    "O Custo é minimo para um threshold de 0.6: 2,646,000 Euros, que é a melhor que a baseline!"
   ]
  },
  {
   "cell_type": "markdown",
   "metadata": {
    "id": "nfjkWZh4oTYj"
   },
   "source": [
    "#### KNN"
   ]
  },
  {
   "cell_type": "code",
   "execution_count": 31,
   "metadata": {
    "id": "_VuZgPnKoTYk",
    "outputId": "6b4641e1-36ec-4f5d-867e-f6c820998db6"
   },
   "outputs": [
    {
     "name": "stdout",
     "output_type": "stream",
     "text": [
      "CPU times: user 47.1 s, sys: 490 ms, total: 47.6 s\n",
      "Wall time: 11.4 s\n"
     ]
    }
   ],
   "source": [
    "%%time\n",
    "knn = KNeighborsClassifier()\n",
    "\n",
    "parameters = {'n_neighbors': range(1,10, 1)}\n",
    "\n",
    "clf_knn = GridSearchCV(knn, parameters, cv = 5).fit(X_train, y_train)"
   ]
  },
  {
   "cell_type": "markdown",
   "metadata": {
    "id": "VN3dUKK7oTYm"
   },
   "source": [
    "KNN não é um metodo adequado para grandes datasets! Vamos ver se compensa a nível de resultados:"
   ]
  },
  {
   "cell_type": "code",
   "execution_count": 32,
   "metadata": {
    "id": "Zj2A-J8boTYm",
    "outputId": "d433724c-640e-4ea0-bd03-2d4e93229253"
   },
   "outputs": [
    {
     "data": {
      "text/plain": [
       "0.807"
      ]
     },
     "execution_count": 32,
     "metadata": {},
     "output_type": "execute_result"
    }
   ],
   "source": [
    "y_preds = clf_knn.predict_proba(X_test)[:,1]\n",
    "\n",
    "clf_knn.score(X_test, y_test)"
   ]
  },
  {
   "cell_type": "code",
   "execution_count": 33,
   "metadata": {
    "id": "C2FHBJMtoTYr",
    "outputId": "6d7ec753-63ef-4584-e9a2-eff9f6cb9d4c"
   },
   "outputs": [
    {
     "data": {
      "text/plain": [
       "2900000"
      ]
     },
     "execution_count": 33,
     "metadata": {},
     "output_type": "execute_result"
    }
   ],
   "source": [
    "total_cost(y_test, y_preds, threshold = 0.5)"
   ]
  },
  {
   "cell_type": "code",
   "execution_count": 34,
   "metadata": {
    "id": "JnInmWwxoTYu",
    "outputId": "13519940-041c-431e-b301-deffc9205b60"
   },
   "outputs": [
    {
     "data": {
      "image/png": "[encoded data removed]",
      "text/plain": [
       "<Figure size 640x480 with 1 Axes>"
      ]
     },
     "metadata": {},
     "output_type": "display_data"
    }
   ],
   "source": [
    "min_cost_threshold(y_test, y_preds)"
   ]
  },
  {
   "cell_type": "code",
   "execution_count": 35,
   "metadata": {
    "id": "R-Q9DwwooTYz",
    "outputId": "a54870c2-e2b2-49f2-d61b-c1085b4c60e9"
   },
   "outputs": [
    {
     "data": {
      "text/plain": [
       "2714000"
      ]
     },
     "execution_count": 35,
     "metadata": {},
     "output_type": "execute_result"
    }
   ],
   "source": [
    "total_cost(y_test, y_preds, threshold = 0.3)"
   ]
  },
  {
   "cell_type": "markdown",
   "metadata": {
    "id": "CNrPYbXZoTY0"
   },
   "source": [
    "Melhor que a baseline mas pior que usar regressão logistica."
   ]
  },
  {
   "cell_type": "markdown",
   "metadata": {
    "id": "Aphz-nLGoTY1"
   },
   "source": [
    "#### SVM"
   ]
  },
  {
   "cell_type": "code",
   "execution_count": 36,
   "metadata": {
    "id": "HHGHoYOWoTY1",
    "outputId": "e17075b1-58dd-497c-b8fd-d61bcfe89ad9"
   },
   "outputs": [
    {
     "name": "stdout",
     "output_type": "stream",
     "text": [
      "[LibSVM].............\n",
      "Warning: using -h 0 may be faster\n",
      "*\n",
      "optimization finished, #iter = 13751\n",
      "obj = -1079.975659, rho = -1.571294\n",
      "nSV = 11227, nBSV = 8898\n",
      "Total nSV = 11227\n",
      ".............\n",
      "Warning: using -h 0 may be faster\n",
      "*\n",
      "optimization finished, #iter = 13602\n",
      "obj = -1074.923463, rho = -1.831821\n",
      "nSV = 11178, nBSV = 8899\n",
      "Total nSV = 11178\n",
      ".............\n",
      "Warning: using -h 0 may be faster\n",
      "*.\n",
      "Warning: using -h 0 may be faster\n",
      "*\n",
      "optimization finished, #iter = 13753\n",
      "obj = -1078.734402, rho = -1.491745\n",
      "nSV = 11219, nBSV = 8954\n",
      "Total nSV = 11219\n",
      ".............\n",
      "Warning: using -h 0 may be faster\n",
      "*\n",
      "optimization finished, #iter = 13621\n",
      "obj = -1077.725906, rho = -1.650705\n",
      "nSV = 11191, nBSV = 8911\n",
      "Total nSV = 11191\n",
      ".............\n",
      "Warning: using -h 0 may be faster\n",
      "*.\n",
      "Warning: using -h 0 may be faster\n",
      "*\n",
      "optimization finished, #iter = 13726\n",
      "obj = -1067.545571, rho = -1.682148\n",
      "nSV = 11125, nBSV = 8876\n",
      "Total nSV = 11125\n",
      "...............\n",
      "Warning: using -h 0 may be faster\n",
      "*.\n",
      "Warning: using -h 0 may be faster\n",
      "*\n",
      "optimization finished, #iter = 16065\n",
      "obj = -1335.579355, rho = 1.717018\n",
      "nSV = 13857, nBSV = 10643\n",
      "Total nSV = 13857\n",
      "[LibSVM].............\n",
      "Warning: using -h 0 may be faster\n",
      "**.*\n",
      "optimization finished, #iter = 13584\n",
      "obj = -1079.589203, rho = -1.655950\n",
      "nSV = 11230, nBSV = 8952\n",
      "Total nSV = 11230\n",
      ".............\n",
      "Warning: using -h 0 may be faster\n",
      "**.*\n",
      "optimization finished, #iter = 13612\n",
      "obj = -1079.603510, rho = -1.823877\n",
      "nSV = 11221, nBSV = 8951\n",
      "Total nSV = 11221\n",
      ".............\n",
      "Warning: using -h 0 may be faster\n",
      "*\n",
      "optimization finished, #iter = 13573\n",
      "obj = -1082.222746, rho = -1.648286\n",
      "nSV = 11235, nBSV = 8989\n",
      "Total nSV = 11235\n",
      ".............\n",
      "Warning: using -h 0 may be faster\n",
      "*\n",
      "optimization finished, #iter = 13675\n",
      "obj = -1086.076445, rho = -1.667071\n",
      "nSV = 11283, nBSV = 8931\n",
      "Total nSV = 11283\n",
      ".............\n",
      "Warning: using -h 0 may be faster\n",
      "*\n",
      "optimization finished, #iter = 13646\n",
      "obj = -1069.708748, rho = -1.656043\n",
      "nSV = 11148, nBSV = 8889\n",
      "Total nSV = 11148\n",
      "...............\n",
      "Warning: using -h 0 may be faster\n",
      "*.\n",
      "Warning: using -h 0 may be faster\n",
      "*.\n",
      "Warning: using -h 0 may be faster\n",
      "*.*\n",
      "optimization finished, #iter = 16257\n",
      "obj = -1340.115399, rho = 1.754171\n",
      "nSV = 13899, nBSV = 10690\n",
      "Total nSV = 13899\n",
      "[LibSVM].............\n",
      "Warning: using -h 0 may be faster\n",
      "*\n",
      "optimization finished, #iter = 13547\n",
      "obj = -1073.592104, rho = -1.613717\n",
      "nSV = 11158, nBSV = 8934\n",
      "Total nSV = 11158\n",
      ".............\n",
      "Warning: using -h 0 may be faster\n",
      "*\n",
      "optimization finished, #iter = 13520\n",
      "obj = -1080.421392, rho = -1.785254\n",
      "nSV = 11228, nBSV = 8978\n",
      "Total nSV = 11228\n",
      ".............\n",
      "Warning: using -h 0 may be faster\n",
      "*.\n",
      "Warning: using -h 0 may be faster\n",
      "**.*\n",
      "optimization finished, #iter = 13591\n",
      "obj = -1072.621717, rho = -1.462102\n",
      "nSV = 11146, nBSV = 8953\n",
      "Total nSV = 11146\n",
      ".............\n",
      "Warning: using -h 0 may be faster\n",
      "*\n",
      "optimization finished, #iter = 13678\n",
      "obj = -1090.029290, rho = -1.601950\n",
      "nSV = 11310, nBSV = 9027\n",
      "Total nSV = 11310\n",
      ".............\n",
      "Warning: using -h 0 may be faster\n",
      "*\n",
      "optimization finished, #iter = 13569\n",
      "obj = -1066.264617, rho = -1.678080\n",
      "nSV = 11098, nBSV = 8887\n",
      "Total nSV = 11098\n",
      "...............\n",
      "Warning: using -h 0 may be faster\n",
      "*.\n",
      "Warning: using -h 0 may be faster\n",
      "*.\n",
      "Warning: using -h 0 may be faster\n",
      "*\n",
      "optimization finished, #iter = 16197\n",
      "obj = -1336.843322, rho = 1.696042\n",
      "nSV = 13854, nBSV = 10643\n",
      "Total nSV = 13854\n",
      "[LibSVM].............\n",
      "Warning: using -h 0 may be faster\n",
      "*\n",
      "optimization finished, #iter = 13502\n",
      "obj = -1066.886809, rho = -1.713742\n",
      "nSV = 11105, nBSV = 8893\n",
      "Total nSV = 11105\n",
      ".............\n",
      "Warning: using -h 0 may be faster\n",
      "*.\n",
      "Warning: using -h 0 may be faster\n",
      "*\n",
      "optimization finished, #iter = 13580\n",
      "obj = -1077.180879, rho = -1.916573\n",
      "nSV = 11191, nBSV = 8951\n",
      "Total nSV = 11191\n",
      ".............\n",
      "Warning: using -h 0 may be faster\n",
      "*\n",
      "optimization finished, #iter = 13568\n",
      "obj = -1060.875468, rho = -1.657395\n",
      "nSV = 11046, nBSV = 8810\n",
      "Total nSV = 11046\n",
      ".............\n",
      "Warning: using -h 0 may be faster\n",
      "*\n",
      "optimization finished, #iter = 13672\n",
      "obj = -1085.197683, rho = -1.755042\n",
      "nSV = 11267, nBSV = 8960\n",
      "Total nSV = 11267\n",
      ".............\n",
      "Warning: using -h 0 may be faster\n",
      "*.\n",
      "Warning: using -h 0 may be faster\n",
      "*\n",
      "optimization finished, #iter = 13724\n",
      "obj = -1065.777867, rho = -1.802620\n",
      "nSV = 11107, nBSV = 8918\n",
      "Total nSV = 11107\n",
      "...............\n",
      "Warning: using -h 0 may be faster\n",
      "*.\n",
      "Warning: using -h 0 may be faster\n",
      "*.\n",
      "Warning: using -h 0 may be faster\n",
      "*\n",
      "optimization finished, #iter = 16166\n",
      "obj = -1329.770567, rho = 1.837352\n",
      "nSV = 13787, nBSV = 10624\n",
      "Total nSV = 13787\n",
      "[LibSVM].............\n",
      "Warning: using -h 0 may be faster\n",
      "*\n",
      "optimization finished, #iter = 13454\n",
      "obj = -1068.635160, rho = -1.718572\n",
      "nSV = 11118, nBSV = 8940\n",
      "Total nSV = 11118\n",
      ".............\n",
      "Warning: using -h 0 may be faster\n",
      "*\n",
      "optimization finished, #iter = 13518\n",
      "obj = -1079.737927, rho = -1.846641\n",
      "nSV = 11224, nBSV = 8998\n",
      "Total nSV = 11224\n",
      ".............\n",
      "Warning: using -h 0 may be faster\n",
      "*\n",
      "optimization finished, #iter = 13652\n",
      "obj = -1066.014559, rho = -1.663659\n",
      "nSV = 11094, nBSV = 8870\n",
      "Total nSV = 11094\n",
      ".............\n",
      "Warning: using -h 0 may be faster\n",
      "*\n",
      "optimization finished, #iter = 13661\n",
      "obj = -1087.874354, rho = -1.732924\n",
      "nSV = 11305, nBSV = 8986\n",
      "Total nSV = 11305\n",
      ".............\n",
      "Warning: using -h 0 may be faster\n",
      "*.\n",
      "Warning: using -h 0 may be faster\n",
      "*\n",
      "optimization finished, #iter = 13644\n",
      "obj = -1063.185805, rho = -1.744984\n",
      "nSV = 11091, nBSV = 8902\n",
      "Total nSV = 11091\n",
      "...............\n",
      "Warning: using -h 0 may be faster\n",
      "*.\n",
      "Warning: using -h 0 may be faster\n",
      "*\n",
      "optimization finished, #iter = 15965\n",
      "obj = -1331.983451, rho = 1.822640\n",
      "nSV = 13826, nBSV = 10628\n",
      "Total nSV = 13826\n",
      "[LibSVM]..............\n",
      "Warning: using -h 0 may be faster\n",
      "*.\n",
      "Warning: using -h 0 may be faster\n",
      "*.\n",
      "Warning: using -h 0 may be faster\n",
      "*\n",
      "optimization finished, #iter = 14488\n",
      "obj = -1175.237519, rho = 0.816342\n",
      "nSV = 11932, nBSV = 9768\n",
      "Total nSV = 11932\n",
      "..............\n",
      "Warning: using -h 0 may be faster\n",
      "*.\n",
      "Warning: using -h 0 may be faster\n",
      "*\n",
      "optimization finished, #iter = 14496\n",
      "obj = -1173.302532, rho = 0.899228\n",
      "nSV = 11919, nBSV = 9730\n",
      "Total nSV = 11919\n",
      "..............\n",
      "Warning: using -h 0 may be faster\n",
      "*.\n",
      "Warning: using -h 0 may be faster\n",
      "*.\n",
      "Warning: using -h 0 may be faster\n",
      "*.\n",
      "Warning: using -h 0 may be faster\n",
      "*\n",
      "optimization finished, #iter = 14755\n",
      "obj = -1176.348786, rho = 0.857021\n",
      "nSV = 11960, nBSV = 9706\n",
      "Total nSV = 11960\n",
      "..............\n",
      "Warning: using -h 0 may be faster\n",
      "*.\n",
      "Warning: using -h 0 may be faster\n",
      "*.\n",
      "Warning: using -h 0 may be faster\n",
      "*\n",
      "optimization finished, #iter = 14548\n",
      "obj = -1175.244732, rho = 0.905928\n",
      "nSV = 11934, nBSV = 9713\n",
      "Total nSV = 11934\n",
      "..............\n",
      "Warning: using -h 0 may be faster\n",
      "*.\n",
      "Warning: using -h 0 may be faster\n",
      "*.\n",
      "Warning: using -h 0 may be faster\n",
      "*\n",
      "optimization finished, #iter = 14548\n",
      "obj = -1169.601811, rho = 0.901385\n",
      "nSV = 11889, nBSV = 9674\n",
      "Total nSV = 11889\n",
      "................\n",
      "Warning: using -h 0 may be faster\n",
      "*.\n",
      "Warning: using -h 0 may be faster\n",
      "*.\n",
      "Warning: using -h 0 may be faster\n",
      "*\n",
      "optimization finished, #iter = 17282\n",
      "obj = -1463.416156, rho = -0.888616\n",
      "nSV = 14832, nBSV = 11368\n",
      "Total nSV = 14832\n",
      "[LibSVM]..............\n",
      "Warning: using -h 0 may be faster\n",
      "*.\n",
      "Warning: using -h 0 may be faster\n",
      "*.\n",
      "Warning: using -h 0 may be faster\n",
      "*\n",
      "optimization finished, #iter = 14528\n",
      "obj = -1174.933051, rho = 0.780556\n",
      "nSV = 11936, nBSV = 9711\n",
      "Total nSV = 11936\n",
      "..............\n",
      "Warning: using -h 0 may be faster\n",
      "*.\n",
      "Warning: using -h 0 may be faster\n",
      "*\n",
      "optimization finished, #iter = 14610\n",
      "obj = -1178.280247, rho = 0.943207\n",
      "nSV = 11969, nBSV = 9717\n",
      "Total nSV = 11969\n",
      "..............\n",
      "Warning: using -h 0 may be faster\n",
      "*.\n",
      "Warning: using -h 0 may be faster\n",
      "*.\n",
      "Warning: using -h 0 may be faster\n",
      "*.\n",
      "Warning: using -h 0 may be faster\n",
      "**.\n",
      "Warning: using -h 0 may be faster\n",
      "*\n",
      "optimization finished, #iter = 14725\n",
      "obj = -1179.761335, rho = 0.899245\n",
      "nSV = 11989, nBSV = 9767\n",
      "Total nSV = 11989\n",
      "..............\n",
      "Warning: using -h 0 may be faster\n",
      "*.\n",
      "Warning: using -h 0 may be faster\n",
      "*.\n",
      "Warning: using -h 0 may be faster\n",
      "*.\n",
      "Warning: using -h 0 may be faster\n",
      "*.\n",
      "Warning: using -h 0 may be faster\n",
      "*\n",
      "optimization finished, #iter = 14944\n",
      "obj = -1183.918958, rho = 0.889973\n",
      "nSV = 12018, nBSV = 9759\n",
      "Total nSV = 12018\n",
      "..............\n",
      "Warning: using -h 0 may be faster\n",
      "*.\n",
      "Warning: using -h 0 may be faster\n",
      "*.\n",
      "Warning: using -h 0 may be faster\n",
      "*.\n",
      "Warning: using -h 0 may be faster\n",
      "*\n",
      "optimization finished, #iter = 14916\n",
      "obj = -1171.980689, rho = 0.868952\n",
      "nSV = 11922, nBSV = 9721\n",
      "Total nSV = 11922\n",
      "................\n",
      "Warning: using -h 0 may be faster\n",
      "*.\n",
      "Warning: using -h 0 may be faster\n",
      "*\n",
      "optimization finished, #iter = 17240\n",
      "obj = -1468.157598, rho = -0.894269\n",
      "nSV = 14880, nBSV = 11407\n",
      "Total nSV = 14880\n",
      "[LibSVM]..............\n",
      "Warning: using -h 0 may be faster\n",
      "*.\n",
      "Warning: using -h 0 may be faster\n",
      "*.\n",
      "Warning: using -h 0 may be faster\n",
      "*\n",
      "optimization finished, #iter = 14563\n",
      "obj = -1170.920209, rho = 0.978400\n",
      "nSV = 11899, nBSV = 9715\n",
      "Total nSV = 11899\n",
      "..............\n",
      "Warning: using -h 0 may be faster\n",
      "*.\n",
      "Warning: using -h 0 may be faster\n",
      "*.\n",
      "Warning: using -h 0 may be faster\n",
      "*\n",
      "optimization finished, #iter = 14554\n",
      "obj = -1177.705706, rho = 1.003805\n",
      "nSV = 11958, nBSV = 9745\n",
      "Total nSV = 11958\n",
      "..............\n",
      "Warning: using -h 0 may be faster\n",
      "*.\n",
      "Warning: using -h 0 may be faster\n",
      "*.\n",
      "Warning: using -h 0 may be faster\n",
      "**.\n",
      "Warning: using -h 0 may be faster\n",
      "*\n",
      "optimization finished, #iter = 14661\n",
      "obj = -1167.826392, rho = 0.893194\n",
      "nSV = 11868, nBSV = 9696\n",
      "Total nSV = 11868\n",
      "..............\n",
      "Warning: using -h 0 may be faster\n",
      "*.\n",
      "Warning: using -h 0 may be faster\n",
      "*.\n",
      "Warning: using -h 0 may be faster\n",
      "*\n",
      "optimization finished, #iter = 14622\n",
      "obj = -1185.114298, rho = 0.841305\n",
      "nSV = 12034, nBSV = 9844\n",
      "Total nSV = 12034\n",
      "..............\n",
      "Warning: using -h 0 may be faster\n",
      "*.\n",
      "Warning: using -h 0 may be faster\n",
      "*.\n",
      "Warning: using -h 0 may be faster\n",
      "*.\n",
      "Warning: using -h 0 may be faster\n",
      "*\n",
      "optimization finished, #iter = 14763\n",
      "obj = -1170.941397, rho = 0.930914\n",
      "nSV = 11897, nBSV = 9694\n",
      "Total nSV = 11897\n",
      "................\n",
      "Warning: using -h 0 may be faster\n",
      "*.\n",
      "Warning: using -h 0 may be faster\n",
      "*\n",
      "optimization finished, #iter = 17198\n",
      "obj = -1463.997888, rho = -0.932040\n",
      "nSV = 14837, nBSV = 11386\n",
      "Total nSV = 14837\n",
      "[LibSVM]..............\n",
      "Warning: using -h 0 may be faster\n",
      "*.\n",
      "Warning: using -h 0 may be faster\n",
      "*.\n",
      "Warning: using -h 0 may be faster\n",
      "*\n",
      "optimization finished, #iter = 14383\n",
      "obj = -1163.832303, rho = 0.950104\n",
      "nSV = 11828, nBSV = 9665\n",
      "Total nSV = 11828\n",
      "..............\n",
      "Warning: using -h 0 may be faster\n",
      "*.\n",
      "Warning: using -h 0 may be faster\n",
      "*.\n",
      "Warning: using -h 0 may be faster\n",
      "*\n",
      "optimization finished, #iter = 14511\n",
      "obj = -1174.236121, rho = 1.020394\n",
      "nSV = 11924, nBSV = 9711\n",
      "Total nSV = 11924\n",
      "..............\n",
      "Warning: using -h 0 may be faster\n",
      "*.\n",
      "Warning: using -h 0 may be faster\n",
      "*.\n",
      "Warning: using -h 0 may be faster\n",
      "*\n",
      "optimization finished, #iter = 14675\n",
      "obj = -1157.728774, rho = 0.944675\n",
      "nSV = 11765, nBSV = 9754\n",
      "Total nSV = 11765\n",
      "..............\n",
      "Warning: using -h 0 may be faster\n",
      "*.\n",
      "Warning: using -h 0 may be faster\n",
      "*.\n",
      "Warning: using -h 0 may be faster\n",
      "*\n",
      "optimization finished, #iter = 14522\n",
      "obj = -1182.214711, rho = 0.869800\n",
      "nSV = 12006, nBSV = 9781\n",
      "Total nSV = 12006\n",
      "..............\n",
      "Warning: using -h 0 may be faster\n",
      "*.\n",
      "Warning: using -h 0 may be faster\n",
      "*.\n",
      "Warning: using -h 0 may be faster\n",
      "*.\n",
      "Warning: using -h 0 may be faster\n",
      "*.\n",
      "Warning: using -h 0 may be faster\n",
      "*\n",
      "optimization finished, #iter = 14687\n",
      "obj = -1166.405210, rho = 0.953190\n",
      "nSV = 11862, nBSV = 9680\n",
      "Total nSV = 11862\n",
      "................\n",
      "Warning: using -h 0 may be faster\n",
      "*.\n",
      "Warning: using -h 0 may be faster\n",
      "*.\n",
      "Warning: using -h 0 may be faster\n",
      "*.\n",
      "Warning: using -h 0 may be faster\n",
      "*\n",
      "optimization finished, #iter = 17491\n",
      "obj = -1457.026780, rho = -0.948684\n",
      "nSV = 14773, nBSV = 11368\n",
      "Total nSV = 14773\n",
      "[LibSVM]..............\n",
      "Warning: using -h 0 may be faster\n",
      "*.\n",
      "Warning: using -h 0 may be faster\n",
      "*.\n",
      "Warning: using -h 0 may be faster\n",
      "*.\n",
      "Warning: using -h 0 may be faster\n",
      "*\n",
      "optimization finished, #iter = 14766\n",
      "obj = -1167.937447, rho = 0.906598\n",
      "nSV = 11873, nBSV = 9651\n",
      "Total nSV = 11873\n",
      "..............\n",
      "Warning: using -h 0 may be faster\n",
      "*.\n",
      "Warning: using -h 0 may be faster\n",
      "*.\n",
      "Warning: using -h 0 may be faster\n",
      "*\n",
      "optimization finished, #iter = 14635\n",
      "obj = -1179.008510, rho = 1.027033\n",
      "nSV = 11984, nBSV = 9743\n",
      "Total nSV = 11984\n",
      "..............\n",
      "Warning: using -h 0 may be faster\n",
      "*.\n",
      "Warning: using -h 0 may be faster\n",
      "*.\n",
      "Warning: using -h 0 may be faster\n",
      "*\n",
      "optimization finished, #iter = 14620\n",
      "obj = -1164.409225, rho = 0.895822\n",
      "nSV = 11838, nBSV = 9624\n",
      "Total nSV = 11838\n",
      "..............\n",
      "Warning: using -h 0 may be faster\n",
      "*.\n",
      "Warning: using -h 0 may be faster\n",
      "*.\n",
      "Warning: using -h 0 may be faster\n",
      "*.\n",
      "Warning: using -h 0 may be faster\n",
      "*\n",
      "optimization finished, #iter = 14708\n",
      "obj = -1188.432025, rho = 0.795239\n",
      "nSV = 12072, nBSV = 9816\n",
      "Total nSV = 12072\n",
      "..............\n",
      "Warning: using -h 0 may be faster\n",
      "*.\n",
      "Warning: using -h 0 may be faster\n",
      "*.\n",
      "Warning: using -h 0 may be faster\n",
      "*.\n",
      "Warning: using -h 0 may be faster\n",
      "*\n",
      "optimization finished, #iter = 14632\n",
      "obj = -1164.891450, rho = 0.911578\n",
      "nSV = 11860, nBSV = 9621\n",
      "Total nSV = 11860\n",
      "................\n",
      "Warning: using -h 0 may be faster\n",
      "*.\n",
      "Warning: using -h 0 may be faster\n",
      "*\n",
      "optimization finished, #iter = 17227\n",
      "obj = -1461.989677, rho = -0.940351\n",
      "nSV = 14829, nBSV = 11201\n",
      "Total nSV = 14829\n",
      "[LibSVM]..............\n",
      "Warning: using -h 0 may be faster\n",
      "*.*\n",
      "optimization finished, #iter = 15727\n",
      "obj = -10019.134740, rho = -2.375949\n",
      "nSV = 10429, nBSV = 8299\n",
      "Total nSV = 10429\n",
      "..............\n",
      "Warning: using -h 0 may be faster\n",
      "*.*\n",
      "optimization finished, #iter = 15581\n",
      "obj = -9966.515727, rho = -2.637137\n",
      "nSV = 10383, nBSV = 8278\n",
      "Total nSV = 10383\n",
      "..............\n",
      "Warning: using -h 0 may be faster\n",
      "*.*\n",
      "optimization finished, #iter = 15413\n",
      "obj = -10032.771581, rho = -2.023390\n",
      "nSV = 10424, nBSV = 8381\n",
      "Total nSV = 10424\n",
      "..............\n",
      "Warning: using -h 0 may be faster\n",
      "*..*.\n",
      "Warning: using -h 0 may be faster\n",
      "*\n",
      "optimization finished, #iter = 16922\n",
      "obj = -10001.035854, rho = -2.285343\n",
      "nSV = 10411, nBSV = 8351\n",
      "Total nSV = 10411\n",
      ".............\n",
      "Warning: using -h 0 may be faster\n",
      "*..*\n",
      "optimization finished, #iter = 15559\n",
      "obj = -9876.527833, rho = -2.319637\n",
      "nSV = 10294, nBSV = 8270\n",
      "Total nSV = 10294\n",
      "................\n",
      "Warning: using -h 0 may be faster\n",
      "*..*.\n",
      "Warning: using -h 0 may be faster\n",
      "*\n",
      "optimization finished, #iter = 19532\n",
      "obj = -12427.224281, rho = 2.361789\n",
      "nSV = 12899, nBSV = 10543\n",
      "Total nSV = 12899\n",
      "[LibSVM]..............\n",
      "Warning: using -h 0 may be faster\n",
      "*.*\n",
      "optimization finished, #iter = 15301\n",
      "obj = -10018.587553, rho = -2.473708\n",
      "nSV = 10411, nBSV = 8387\n",
      "Total nSV = 10411\n",
      ".............\n",
      "Warning: using -h 0 may be faster\n",
      "*..*.\n",
      "Warning: using -h 0 may be faster\n",
      "*\n",
      "optimization finished, #iter = 15771\n",
      "obj = -10045.554259, rho = -2.606079\n",
      "nSV = 10425, nBSV = 8316\n",
      "Total nSV = 10425\n",
      ".............\n",
      "Warning: using -h 0 may be faster\n",
      "*..*.*\n",
      "optimization finished, #iter = 15210\n",
      "obj = -10089.959021, rho = -2.399050\n",
      "nSV = 10481, nBSV = 8429\n",
      "Total nSV = 10481\n",
      "..............\n",
      "Warning: using -h 0 may be faster\n",
      "*.*\n",
      "optimization finished, #iter = 15423\n",
      "obj = -10097.666051, rho = -2.437175\n",
      "nSV = 10502, nBSV = 8475\n",
      "Total nSV = 10502\n",
      ".............\n",
      "Warning: using -h 0 may be faster\n",
      "*..*\n",
      "optimization finished, #iter = 15320\n",
      "obj = -9910.856153, rho = -2.392009\n",
      "nSV = 10316, nBSV = 8309\n",
      "Total nSV = 10316\n",
      ".................\n",
      "Warning: using -h 0 may be faster\n",
      "*..*.\n",
      "Warning: using -h 0 may be faster\n",
      "*\n",
      "optimization finished, #iter = 19821\n",
      "obj = -12495.891238, rho = 2.513785\n",
      "nSV = 12963, nBSV = 10405\n",
      "Total nSV = 12963\n",
      "[LibSVM].............\n",
      "Warning: using -h 0 may be faster\n",
      "*..*.\n",
      "Warning: using -h 0 may be faster\n",
      "*\n",
      "optimization finished, #iter = 16095\n",
      "obj = -9955.922087, rho = -2.441005\n",
      "nSV = 10370, nBSV = 8355\n",
      "Total nSV = 10370\n",
      ".............\n",
      "Warning: using -h 0 may be faster\n",
      "*..*\n",
      "optimization finished, #iter = 15072\n",
      "obj = -10039.697658, rho = -2.712193\n",
      "nSV = 10438, nBSV = 8375\n",
      "Total nSV = 10438\n",
      "..............\n",
      "Warning: using -h 0 may be faster\n",
      "*.*\n",
      "optimization finished, #iter = 15291\n",
      "obj = -9992.807575, rho = -2.178859\n",
      "nSV = 10392, nBSV = 8236\n",
      "Total nSV = 10392\n",
      ".............\n",
      "Warning: using -h 0 may be faster\n",
      "*..*\n",
      "optimization finished, #iter = 15029\n",
      "obj = -10146.998725, rho = -2.532233\n",
      "nSV = 10546, nBSV = 8388\n",
      "Total nSV = 10546\n",
      "..............\n",
      "Warning: using -h 0 may be faster\n",
      "*.*..*\n",
      "optimization finished, #iter = 16978\n",
      "obj = -9884.027331, rho = -2.500230\n",
      "nSV = 10290, nBSV = 8202\n",
      "Total nSV = 10290\n",
      ".................\n",
      "Warning: using -h 0 may be faster\n",
      "*.*.*\n",
      "optimization finished, #iter = 18846\n",
      "obj = -12462.452579, rho = 2.518897\n",
      "nSV = 12943, nBSV = 10507\n",
      "Total nSV = 12943\n",
      "[LibSVM]..............\n",
      "Warning: using -h 0 may be faster\n",
      "*.*.\n",
      "Warning: using -h 0 may be faster\n",
      "*\n",
      "optimization finished, #iter = 15883\n",
      "obj = -9872.443807, rho = -2.311047\n",
      "nSV = 10276, nBSV = 8174\n",
      "Total nSV = 10276\n",
      "..............\n",
      "Warning: using -h 0 may be faster\n",
      "*.*\n",
      "optimization finished, #iter = 15085\n",
      "obj = -10017.736761, rho = -2.644593\n",
      "nSV = 10427, nBSV = 8295\n",
      "Total nSV = 10427\n",
      "..............\n",
      "Warning: using -h 0 may be faster\n",
      "*.*.*\n",
      "optimization finished, #iter = 15880\n",
      "obj = -9849.553650, rho = -2.414382\n",
      "nSV = 10255, nBSV = 8174\n",
      "Total nSV = 10255\n",
      "..............\n",
      "Warning: using -h 0 may be faster\n",
      "*.*\n",
      "optimization finished, #iter = 15347\n",
      "obj = -10088.343982, rho = -2.494548\n",
      "nSV = 10488, nBSV = 8399\n",
      "Total nSV = 10488\n",
      "..............\n",
      "Warning: using -h 0 may be faster\n",
      "*.*.*\n",
      "optimization finished, #iter = 15874\n",
      "obj = -9879.196193, rho = -2.439103\n",
      "nSV = 10278, nBSV = 8240\n",
      "Total nSV = 10278\n",
      "................\n",
      "Warning: using -h 0 may be faster\n",
      "*..*\n",
      "optimization finished, #iter = 18867\n",
      "obj = -12380.660505, rho = 2.516363\n",
      "nSV = 12857, nBSV = 10550\n",
      "Total nSV = 12857\n",
      "[LibSVM].............\n",
      "Warning: using -h 0 may be faster\n",
      "*..*.\n",
      "Warning: using -h 0 may be faster\n",
      "*\n",
      "optimization finished, #iter = 16036\n",
      "obj = -9881.196890, rho = -2.492919\n",
      "nSV = 10302, nBSV = 8261\n",
      "Total nSV = 10302\n",
      ".............\n",
      "Warning: using -h 0 may be faster\n",
      "*..*\n",
      "optimization finished, #iter = 15501\n",
      "obj = -10023.250233, rho = -2.581639\n",
      "nSV = 10422, nBSV = 8317\n",
      "Total nSV = 10422\n",
      "..............\n",
      "Warning: using -h 0 may be faster\n",
      "*.*\n",
      "optimization finished, #iter = 15390\n",
      "obj = -9865.479323, rho = -2.563611\n",
      "nSV = 10281, nBSV = 8223\n",
      "Total nSV = 10281\n",
      ".............\n",
      "Warning: using -h 0 may be faster\n",
      "*..*\n",
      "optimization finished, #iter = 15286\n",
      "obj = -10092.148472, rho = -2.673912\n",
      "nSV = 10500, nBSV = 8490\n",
      "Total nSV = 10500\n",
      ".............\n",
      "Warning: using -h 0 may be faster\n",
      "*..*\n",
      "optimization finished, #iter = 15213\n",
      "obj = -9831.068829, rho = -2.471800\n",
      "nSV = 10225, nBSV = 8134\n",
      "Total nSV = 10225\n",
      "................\n",
      "Warning: using -h 0 may be faster\n",
      "*..*.*\n",
      "optimization finished, #iter = 18808\n",
      "obj = -12375.024853, rho = 2.628342\n",
      "nSV = 12861, nBSV = 10693\n",
      "Total nSV = 12861\n",
      "[LibSVM]..............\n",
      "Warning: using -h 0 may be faster\n",
      "*.\n",
      "Warning: using -h 0 may be faster\n",
      "*..\n",
      "Warning: using -h 0 may be faster\n",
      "*\n",
      "optimization finished, #iter = 16833\n",
      "obj = -11558.885578, rho = 0.843585\n",
      "nSV = 11602, nBSV = 9616\n",
      "Total nSV = 11602\n",
      "..............\n",
      "Warning: using -h 0 may be faster\n",
      "*.\n",
      "Warning: using -h 0 may be faster\n",
      "*...*\n",
      "optimization finished, #iter = 17396\n",
      "obj = -11538.953460, rho = 0.853273\n",
      "nSV = 11585, nBSV = 9569\n",
      "Total nSV = 11585\n",
      "..............\n",
      "Warning: using -h 0 may be faster\n",
      "*.\n",
      "Warning: using -h 0 may be faster\n",
      "*..\n",
      "Warning: using -h 0 may be faster\n",
      "*.*\n",
      "optimization finished, #iter = 16854\n",
      "obj = -11553.462003, rho = 0.849255\n",
      "nSV = 11602, nBSV = 9616\n",
      "Total nSV = 11602\n",
      "..............\n",
      "Warning: using -h 0 may be faster\n",
      "*.\n",
      "Warning: using -h 0 may be faster\n",
      "*..*\n",
      "optimization finished, #iter = 16488\n",
      "obj = -11559.865462, rho = 0.926180\n",
      "nSV = 11605, nBSV = 9489\n",
      "Total nSV = 11605\n",
      "..............\n",
      "Warning: using -h 0 may be faster\n",
      "*.\n",
      "Warning: using -h 0 may be faster\n",
      "*..\n",
      "Warning: using -h 0 may be faster\n",
      "*\n",
      "optimization finished, #iter = 17178\n",
      "obj = -11486.217130, rho = 0.888274\n",
      "nSV = 11536, nBSV = 9505\n",
      "Total nSV = 11536\n",
      "..................\n",
      "Warning: using -h 0 may be faster\n",
      "*.\n",
      "Warning: using -h 0 may be faster\n",
      "*.\n",
      "Warning: using -h 0 may be faster\n",
      "*\n",
      "optimization finished, #iter = 20896\n",
      "obj = -14423.240880, rho = -0.884341\n",
      "nSV = 14476, nBSV = 11114\n",
      "Total nSV = 14476\n",
      "[LibSVM]..............\n",
      "Warning: using -h 0 may be faster\n",
      "*.\n",
      "Warning: using -h 0 may be faster\n",
      "*...*\n",
      "optimization finished, #iter = 17425\n",
      "obj = -11548.955201, rho = 0.738112\n",
      "nSV = 11595, nBSV = 9531\n",
      "Total nSV = 11595\n",
      "..............\n",
      "Warning: using -h 0 may be faster\n",
      "*.\n",
      "Warning: using -h 0 may be faster\n",
      "*..*\n",
      "optimization finished, #iter = 16304\n",
      "obj = -11584.101648, rho = 0.938836\n",
      "nSV = 11629, nBSV = 9566\n",
      "Total nSV = 11629\n",
      "..............\n",
      "Warning: using -h 0 may be faster\n",
      "*.\n",
      "Warning: using -h 0 may be faster\n",
      "*..\n",
      "Warning: using -h 0 may be faster\n",
      "*\n",
      "optimization finished, #iter = 16601\n",
      "obj = -11586.321997, rho = 0.842483\n",
      "nSV = 11634, nBSV = 9542\n",
      "Total nSV = 11634\n",
      "...............\n",
      "Warning: using -h 0 may be faster\n",
      "*.\n",
      "Warning: using -h 0 may be faster\n",
      "*..*\n",
      "optimization finished, #iter = 17438\n",
      "obj = -11647.732827, rho = 0.875306\n",
      "nSV = 11690, nBSV = 9635\n",
      "Total nSV = 11690\n",
      "...............\n",
      "Warning: using -h 0 may be faster\n",
      "*.\n",
      "Warning: using -h 0 may be faster\n",
      "*.\n",
      "Warning: using -h 0 may be faster\n",
      "*\n",
      "optimization finished, #iter = 17070\n",
      "obj = -11501.402902, rho = 0.884918\n",
      "nSV = 11549, nBSV = 9532\n",
      "Total nSV = 11549\n",
      ".................\n",
      "Warning: using -h 0 may be faster\n",
      "*.\n",
      "Warning: using -h 0 may be faster\n",
      "*..*\n",
      "optimization finished, #iter = 20475\n",
      "obj = -14466.550319, rho = -0.835448\n",
      "nSV = 14515, nBSV = 11129\n",
      "Total nSV = 14515\n",
      "[LibSVM]...............\n",
      "Warning: using -h 0 may be faster\n",
      "*.\n",
      "Warning: using -h 0 may be faster\n",
      "*.\n",
      "Warning: using -h 0 may be faster\n",
      "*\n",
      "optimization finished, #iter = 17628\n",
      "obj = -11504.262525, rho = 0.846436\n",
      "nSV = 11556, nBSV = 9517\n",
      "Total nSV = 11556\n",
      "..............\n",
      "Warning: using -h 0 may be faster\n",
      "*.\n",
      "Warning: using -h 0 may be faster\n",
      "*..\n",
      "Warning: using -h 0 may be faster\n",
      "*.*\n",
      "optimization finished, #iter = 17398\n",
      "obj = -11582.032831, rho = 0.904997\n",
      "nSV = 11628, nBSV = 9581\n",
      "Total nSV = 11628\n",
      "..............\n",
      "Warning: using -h 0 may be faster\n",
      "*.\n",
      "Warning: using -h 0 may be faster\n",
      "*..\n",
      "Warning: using -h 0 may be faster\n",
      "*\n",
      "optimization finished, #iter = 16543\n",
      "obj = -11479.205407, rho = 0.788613\n",
      "nSV = 11522, nBSV = 9596\n",
      "Total nSV = 11522\n",
      "..............\n",
      "Warning: using -h 0 may be faster\n",
      "*.\n",
      "Warning: using -h 0 may be faster\n",
      "*..\n",
      "Warning: using -h 0 may be faster\n",
      "*\n",
      "optimization finished, #iter = 16337\n",
      "obj = -11657.287844, rho = 0.724069\n",
      "nSV = 11702, nBSV = 9666\n",
      "Total nSV = 11702\n",
      "..............\n",
      "Warning: using -h 0 may be faster\n",
      "*.\n",
      "Warning: using -h 0 may be faster\n",
      "*..\n",
      "Warning: using -h 0 may be faster\n",
      "*.\n",
      "Warning: using -h 0 may be faster\n",
      "*\n",
      "optimization finished, #iter = 17622\n",
      "obj = -11505.869060, rho = 0.849109\n",
      "nSV = 11555, nBSV = 9629\n",
      "Total nSV = 11555\n",
      "..................\n",
      "Warning: using -h 0 may be faster\n",
      "*.\n",
      "Warning: using -h 0 may be faster\n",
      "*..*\n",
      "optimization finished, #iter = 20210\n",
      "obj = -14429.627341, rho = -0.798666\n",
      "nSV = 14477, nBSV = 12117\n",
      "Total nSV = 14477\n",
      "[LibSVM]..............\n",
      "Warning: using -h 0 may be faster\n",
      "*.\n",
      "Warning: using -h 0 may be faster\n",
      "*..\n",
      "Warning: using -h 0 may be faster\n",
      "*\n",
      "optimization finished, #iter = 16733\n",
      "obj = -11429.594736, rho = 0.927756\n",
      "nSV = 11481, nBSV = 9422\n",
      "Total nSV = 11481\n",
      "..............\n",
      "Warning: using -h 0 may be faster\n",
      "*.\n",
      "Warning: using -h 0 may be faster\n",
      "*..\n",
      "Warning: using -h 0 may be faster\n",
      "*\n",
      "optimization finished, #iter = 16825\n",
      "obj = -11551.421140, rho = 1.045614\n",
      "nSV = 11596, nBSV = 9575\n",
      "Total nSV = 11596\n",
      "..............\n",
      "Warning: using -h 0 may be faster\n",
      "*.\n",
      "Warning: using -h 0 may be faster\n",
      "*..\n",
      "Warning: using -h 0 may be faster\n",
      "*\n",
      "optimization finished, #iter = 16698\n",
      "obj = -11384.808807, rho = 0.942942\n",
      "nSV = 11425, nBSV = 9485\n",
      "Total nSV = 11425\n",
      "...............\n",
      "Warning: using -h 0 may be faster\n",
      "*.\n",
      "Warning: using -h 0 may be faster\n",
      "*.\n",
      "Warning: using -h 0 may be faster\n",
      "*\n",
      "optimization finished, #iter = 17500\n",
      "obj = -11628.856974, rho = 0.870658\n",
      "nSV = 11678, nBSV = 9634\n",
      "Total nSV = 11678\n",
      "...............\n",
      "Warning: using -h 0 may be faster\n",
      "*.\n",
      "Warning: using -h 0 may be faster\n",
      "*.\n",
      "Warning: using -h 0 may be faster\n",
      "*\n",
      "optimization finished, #iter = 17273\n",
      "obj = -11452.616601, rho = 1.005309\n",
      "nSV = 11502, nBSV = 9570\n",
      "Total nSV = 11502\n",
      "..................\n",
      "Warning: using -h 0 may be faster\n",
      "*.\n",
      "Warning: using -h 0 may be faster\n",
      "*..\n",
      "Warning: using -h 0 may be faster\n",
      "*.*\n",
      "optimization finished, #iter = 20691\n",
      "obj = -14361.601513, rho = -0.919012\n",
      "nSV = 14409, nBSV = 11102\n",
      "Total nSV = 14409\n",
      "[LibSVM]..............\n",
      "Warning: using -h 0 may be faster\n",
      "*.\n",
      "Warning: using -h 0 may be faster\n",
      "*..*..*\n",
      "optimization finished, #iter = 17337\n",
      "obj = -11464.758874, rho = 0.774572\n",
      "nSV = 11518, nBSV = 9566\n",
      "Total nSV = 11518\n",
      "..............\n",
      "Warning: using -h 0 may be faster\n",
      "*.\n",
      "Warning: using -h 0 may be faster\n",
      "*..*\n",
      "optimization finished, #iter = 16803\n",
      "obj = -11579.601777, rho = 0.898186\n",
      "nSV = 11624, nBSV = 9569\n",
      "Total nSV = 11624\n",
      "..............\n",
      "Warning: using -h 0 may be faster\n",
      "*.\n",
      "Warning: using -h 0 may be faster\n",
      "*..*.\n",
      "Warning: using -h 0 may be faster\n",
      "*.*\n",
      "optimization finished, #iter = 17999\n",
      "obj = -11440.204400, rho = 0.864524\n",
      "nSV = 11487, nBSV = 9446\n",
      "Total nSV = 11487\n",
      "...............\n",
      "Warning: using -h 0 may be faster\n",
      "*.\n",
      "Warning: using -h 0 may be faster\n",
      "*.*\n",
      "optimization finished, #iter = 17168\n",
      "obj = -11678.894288, rho = 0.730402\n",
      "nSV = 11730, nBSV = 9574\n",
      "Total nSV = 11730\n",
      "...............\n",
      "Warning: using -h 0 may be faster\n",
      "*.\n",
      "Warning: using -h 0 may be faster\n",
      "*..\n",
      "Warning: using -h 0 may be faster\n",
      "*\n",
      "optimization finished, #iter = 17954\n",
      "obj = -11423.874077, rho = 0.936954\n",
      "nSV = 11473, nBSV = 9486\n",
      "Total nSV = 11473\n",
      "..................\n",
      "Warning: using -h 0 may be faster\n",
      "*.\n",
      "Warning: using -h 0 may be faster\n",
      "*..*.\n",
      "Warning: using -h 0 may be faster\n",
      "*\n",
      "optimization finished, #iter = 21118\n",
      "obj = -14396.738219, rho = -0.810048\n",
      "nSV = 14450, nBSV = 11140\n",
      "Total nSV = 14450\n",
      "[LibSVM]...............................*..............*....*\n",
      "optimization finished, #iter = 48373\n",
      "obj = -93754.522007, rho = -2.109760\n",
      "nSV = 9893, nBSV = 7728\n",
      "Total nSV = 9893\n",
      "...............................*..............*\n",
      "optimization finished, #iter = 45002\n",
      "obj = -93162.609828, rho = -2.398436\n",
      "nSV = 9846, nBSV = 7648\n",
      "Total nSV = 9846\n",
      ".................................*.............*....*\n",
      "optimization finished, #iter = 49863\n",
      "obj = -93997.503161, rho = -1.781828\n",
      "nSV = 9923, nBSV = 7744\n",
      "Total nSV = 9923\n",
      "................................*..............*.*\n",
      "optimization finished, #iter = 46904\n",
      "obj = -93611.751703, rho = -1.983423\n",
      "nSV = 9892, nBSV = 7726\n",
      "Total nSV = 9892\n",
      "..............................*.................*..*\n",
      "optimization finished, #iter = 48210\n",
      "obj = -92379.439358, rho = -2.079619\n",
      "nSV = 9754, nBSV = 7599\n",
      "Total nSV = 9754\n",
      ".......................................*.....................*\n",
      "optimization finished, #iter = 60404\n",
      "obj = -116882.917872, rho = 1.934120\n",
      "nSV = 12282, nBSV = 10109\n",
      "Total nSV = 12282\n",
      "[LibSVM]...............................*...............*.*\n",
      "optimization finished, #iter = 46583\n",
      "obj = -93763.762316, rho = -2.109783\n",
      "nSV = 9918, nBSV = 7748\n",
      "Total nSV = 9918\n",
      "..............................*.............*..*\n",
      "optimization finished, #iter = 44930\n",
      "obj = -94064.599507, rho = -2.704879\n",
      "nSV = 9942, nBSV = 7803\n",
      "Total nSV = 9942\n",
      "..............................*.............*\n",
      "optimization finished, #iter = 43399\n",
      "obj = -94556.040099, rho = -2.171046\n",
      "nSV = 9977, nBSV = 7803\n",
      "Total nSV = 9977\n",
      "..............................*.............*..*\n",
      "optimization finished, #iter = 44879\n",
      "obj = -94497.044368, rho = -2.101822\n",
      "nSV = 9979, nBSV = 7744\n",
      "Total nSV = 9979\n",
      "...............................*...............*\n",
      "optimization finished, #iter = 46879\n",
      "obj = -92738.515739, rho = -2.136908\n",
      "nSV = 9791, nBSV = 7616\n",
      "Total nSV = 9791\n",
      ".........................................*.................*.*\n",
      "optimization finished, #iter = 59075\n",
      "obj = -117553.027050, rho = 2.071865\n",
      "nSV = 12356, nBSV = 10300\n",
      "Total nSV = 12356\n",
      "[LibSVM]................................*................*.*\n",
      "optimization finished, #iter = 49099\n",
      "obj = -92950.604764, rho = -2.063785\n",
      "nSV = 9840, nBSV = 7663\n",
      "Total nSV = 9840\n",
      "..............................*............*..*\n",
      "optimization finished, #iter = 43124\n",
      "obj = -93785.558019, rho = -2.404290\n",
      "nSV = 9906, nBSV = 7751\n",
      "Total nSV = 9906\n",
      "................................*.............*..*\n",
      "optimization finished, #iter = 47158\n",
      "obj = -93563.882448, rho = -1.990533\n",
      "nSV = 9883, nBSV = 7713\n",
      "Total nSV = 9883\n",
      "................................*.............*\n",
      "optimization finished, #iter = 45248\n",
      "obj = -94888.180026, rho = -2.129113\n",
      "nSV = 10023, nBSV = 7861\n",
      "Total nSV = 10023\n",
      "...............................*................*\n",
      "optimization finished, #iter = 47176\n",
      "obj = -92395.698430, rho = -2.398147\n",
      "nSV = 9785, nBSV = 7666\n",
      "Total nSV = 9785\n",
      "........................................*.................*...*\n",
      "optimization finished, #iter = 60548\n",
      "obj = -117106.680280, rho = 2.108793\n",
      "nSV = 12315, nBSV = 10161\n",
      "Total nSV = 12315\n",
      "[LibSVM].................................*..............*\n",
      "optimization finished, #iter = 47485\n",
      "obj = -92175.247458, rho = -1.771097\n",
      "nSV = 9757, nBSV = 7591\n",
      "Total nSV = 9757\n",
      "..............................*................*\n",
      "optimization finished, #iter = 46961\n",
      "obj = -93494.815801, rho = -2.274572\n",
      "nSV = 9900, nBSV = 7704\n",
      "Total nSV = 9900\n",
      ".................................*.................*\n",
      "optimization finished, #iter = 50754\n",
      "obj = -92033.562819, rho = -1.839225\n",
      "nSV = 9748, nBSV = 7525\n",
      "Total nSV = 9748\n",
      "................................*..............*\n",
      "optimization finished, #iter = 46647\n",
      "obj = -94339.104185, rho = -2.041435\n",
      "nSV = 9955, nBSV = 7710\n",
      "Total nSV = 9955\n",
      ".................................*...................*..*\n",
      "optimization finished, #iter = 53823\n",
      "obj = -92406.502464, rho = -2.173044\n",
      "nSV = 9770, nBSV = 7609\n",
      "Total nSV = 9770\n",
      ".......................................*.........................*.......*\n",
      "optimization finished, #iter = 71725\n",
      "obj = -116272.460989, rho = 1.851611\n",
      "nSV = 12245, nBSV = 10144\n",
      "Total nSV = 12245\n",
      "[LibSVM]...............................*.................*\n",
      "optimization finished, #iter = 48528\n",
      "obj = -92248.506131, rho = -2.126245\n",
      "nSV = 9754, nBSV = 7665\n",
      "Total nSV = 9754\n",
      "................................*...............*.*\n",
      "optimization finished, #iter = 48615\n",
      "obj = -93747.181267, rho = -2.559448\n",
      "nSV = 9915, nBSV = 7722\n",
      "Total nSV = 9915\n",
      ".................................*...............*.*\n",
      "optimization finished, #iter = 49221\n",
      "obj = -92041.443868, rho = -2.312309\n",
      "nSV = 9737, nBSV = 7579\n",
      "Total nSV = 9737\n",
      "...............................*...............*...*\n",
      "optimization finished, #iter = 48323\n",
      "obj = -94533.443826, rho = -2.738471\n",
      "nSV = 9962, nBSV = 7809\n",
      "Total nSV = 9962\n",
      "...................................*..............*\n",
      "optimization finished, #iter = 49939\n",
      "obj = -91833.289322, rho = -2.431855\n",
      "nSV = 9722, nBSV = 7507\n",
      "Total nSV = 9722\n",
      "........................................*.....................*..*\n",
      "optimization finished, #iter = 62649\n",
      "obj = -116296.991977, rho = 2.292184\n",
      "nSV = 12248, nBSV = 9983\n",
      "Total nSV = 12248\n",
      "[LibSVM]........................\n",
      "Warning: using -h 0 may be faster\n",
      "*..*..........*.........*......*\n",
      "optimization finished, #iter = 50203\n",
      "obj = -115145.337099, rho = 0.782481\n",
      "nSV = 11538, nBSV = 9431\n",
      "Total nSV = 11538\n",
      "...........................\n",
      "Warning: using -h 0 may be faster\n",
      "*...*...............*.*\n",
      "optimization finished, #iter = 44747\n",
      "obj = -114928.932182, rho = 0.719627\n",
      "nSV = 11518, nBSV = 9494\n",
      "Total nSV = 11518\n",
      ".........................\n",
      "Warning: using -h 0 may be faster\n",
      "*..*..........*\n",
      "optimization finished, #iter = 37059\n",
      "obj = -115010.631547, rho = 0.609800\n",
      "nSV = 11528, nBSV = 9571\n",
      "Total nSV = 11528\n",
      ".......................\n",
      "Warning: using -h 0 may be faster\n",
      "*.\n",
      "Warning: using -h 0 may be faster\n",
      "*...................*..*\n",
      "optimization finished, #iter = 44796\n",
      "obj = -115158.164343, rho = 0.819328\n",
      "nSV = 11541, nBSV = 9577\n",
      "Total nSV = 11541\n",
      "..........................\n",
      "Warning: using -h 0 may be faster\n",
      "*...*...........*.........*\n",
      "optimization finished, #iter = 48375\n",
      "obj = -114334.754626, rho = 0.731749\n",
      "nSV = 11457, nBSV = 9457\n",
      "Total nSV = 11457\n",
      "................................\n",
      "Warning: using -h 0 may be faster\n",
      "*....*....................*......*\n",
      "optimization finished, #iter = 62281\n",
      "obj = -143713.403336, rho = -0.720337\n",
      "nSV = 14398, nBSV = 11374\n",
      "Total nSV = 14398\n",
      "[LibSVM]..........................*..*................*.*.*\n",
      "optimization finished, #iter = 45374\n",
      "obj = -115044.736200, rho = 0.490661\n",
      "nSV = 11529, nBSV = 9466\n",
      "Total nSV = 11529\n",
      ".........................\n",
      "Warning: using -h 0 may be faster\n",
      "*.....*.............*.........*\n",
      "optimization finished, #iter = 51194\n",
      "obj = -115419.346940, rho = 0.675278\n",
      "nSV = 11563, nBSV = 9481\n",
      "Total nSV = 11563\n",
      "..........................\n",
      "Warning: using -h 0 may be faster\n",
      "*....*.................*..................*...*\n",
      "optimization finished, #iter = 68078\n",
      "obj = -115381.393607, rho = 0.548182\n",
      "nSV = 11565, nBSV = 9469\n",
      "Total nSV = 11565\n",
      ".........................\n",
      "Warning: using -h 0 may be faster\n",
      "*....*.............*.......*\n",
      "optimization finished, #iter = 48519\n",
      "obj = -116065.686523, rho = 0.572296\n",
      "nSV = 11627, nBSV = 9597\n",
      "Total nSV = 11627\n",
      ".........................\n",
      "Warning: using -h 0 may be faster\n",
      "*....*..................*.....*\n",
      "optimization finished, #iter = 50919\n",
      "obj = -114495.316184, rho = 0.618384\n",
      "nSV = 11472, nBSV = 9476\n",
      "Total nSV = 11472\n",
      ".................................\n",
      "Warning: using -h 0 may be faster\n",
      "*...*....................*..........*.......*\n",
      "optimization finished, #iter = 71918\n",
      "obj = -144177.642151, rho = -0.569351\n",
      "nSV = 14443, nBSV = 11557\n",
      "Total nSV = 14443\n",
      "[LibSVM]........................\n",
      "Warning: using -h 0 may be faster\n",
      "*.\n",
      "Warning: using -h 0 may be faster\n",
      "*...............*............*.\n",
      "Warning: using -h 0 may be faster\n",
      "*\n",
      "optimization finished, #iter = 52549\n",
      "obj = -114560.399867, rho = 0.397645\n",
      "nSV = 11481, nBSV = 9406\n",
      "Total nSV = 11481\n",
      "..........................\n",
      "Warning: using -h 0 may be faster\n",
      "*....*.............*...........*\n",
      "optimization finished, #iter = 52934\n",
      "obj = -115360.535251, rho = 0.517904\n",
      "nSV = 11560, nBSV = 9536\n",
      "Total nSV = 11560\n",
      "........................*..*..............*...........*......*...*\n",
      "optimization finished, #iter = 57957\n",
      "obj = -114343.676555, rho = 0.450776\n",
      "nSV = 11453, nBSV = 9565\n",
      "Total nSV = 11453\n",
      "..........................\n",
      "Warning: using -h 0 may be faster\n",
      "*..*...................*.*\n",
      "optimization finished, #iter = 47526\n",
      "obj = -116100.575370, rho = 0.294981\n",
      "nSV = 11636, nBSV = 9569\n",
      "Total nSV = 11636\n",
      ".........................\n",
      "Warning: using -h 0 may be faster\n",
      "*.........*..................*......*\n",
      "optimization finished, #iter = 56758\n",
      "obj = -114621.380985, rho = 0.588669\n",
      "nSV = 11488, nBSV = 9393\n",
      "Total nSV = 11488\n",
      "................................\n",
      "Warning: using -h 0 may be faster\n",
      "*..*....................*........*.\n",
      "Warning: using -h 0 may be faster\n",
      "*\n",
      "optimization finished, #iter = 60499\n",
      "obj = -143802.928881, rho = -0.403076\n",
      "nSV = 14405, nBSV = 11544\n",
      "Total nSV = 14405\n",
      "[LibSVM].......................\n",
      "Warning: using -h 0 may be faster\n",
      "*....*............*...*\n",
      "optimization finished, #iter = 40842\n",
      "obj = -113817.093836, rho = 0.511621\n",
      "nSV = 11403, nBSV = 9345\n",
      "Total nSV = 11403\n",
      "........................*...*.................*.............*..*\n",
      "optimization finished, #iter = 58821\n",
      "obj = -115137.606417, rho = 0.849047\n",
      "nSV = 11538, nBSV = 9435\n",
      "Total nSV = 11538\n",
      ".........................\n",
      "Warning: using -h 0 may be faster\n",
      "*.\n",
      "Warning: using -h 0 may be faster\n",
      "*........................*...........*.*\n",
      "optimization finished, #iter = 61492\n",
      "obj = -113498.927605, rho = 0.878145\n",
      "nSV = 11368, nBSV = 9312\n",
      "Total nSV = 11368\n",
      "...........................\n",
      "Warning: using -h 0 may be faster\n",
      "*.\n",
      "Warning: using -h 0 may be faster\n",
      "*.........*.....*...*\n",
      "optimization finished, #iter = 44238\n",
      "obj = -115842.828917, rho = 0.693003\n",
      "nSV = 11606, nBSV = 9505\n",
      "Total nSV = 11606\n",
      "..............................\n",
      "Warning: using -h 0 may be faster\n",
      "*..*..............*..*\n",
      "optimization finished, #iter = 47634\n",
      "obj = -114121.945653, rho = 0.838179\n",
      "nSV = 11434, nBSV = 9432\n",
      "Total nSV = 11434\n",
      "...............................\n",
      "Warning: using -h 0 may be faster\n",
      "*....*..................*.......*.*\n",
      "optimization finished, #iter = 59441\n",
      "obj = -143185.805103, rho = -0.692822\n",
      "nSV = 14341, nBSV = 11312\n",
      "Total nSV = 14341\n",
      "[LibSVM]........................\n",
      "Warning: using -h 0 may be faster\n",
      "*..*................*\n",
      "optimization finished, #iter = 42719\n",
      "obj = -114121.714757, rho = 0.359122\n",
      "nSV = 11439, nBSV = 9450\n",
      "Total nSV = 11439\n",
      ".........................\n",
      "Warning: using -h 0 may be faster\n",
      "*...*...............*.......*..*\n",
      "optimization finished, #iter = 51041\n",
      "obj = -115302.026058, rho = 0.567396\n",
      "nSV = 11552, nBSV = 9407\n",
      "Total nSV = 11552\n",
      "........................\n",
      "Warning: using -h 0 may be faster\n",
      "*......*.....................*..............*\n",
      "optimization finished, #iter = 65003\n",
      "obj = -114009.872888, rho = 0.686428\n",
      "nSV = 11422, nBSV = 9491\n",
      "Total nSV = 11422\n",
      ".........................\n",
      "Warning: using -h 0 may be faster\n",
      "*..*............*.......*.*\n",
      "optimization finished, #iter = 46035\n",
      "obj = -116232.779812, rho = 0.475915\n",
      "nSV = 11654, nBSV = 9565\n",
      "Total nSV = 11654\n",
      ".........................\n",
      "Warning: using -h 0 may be faster\n",
      "*.........*...........*........*.*\n",
      "optimization finished, #iter = 53881\n",
      "obj = -113789.115654, rho = 0.803780\n",
      "nSV = 11398, nBSV = 9386\n",
      "Total nSV = 11398\n",
      "..................................\n",
      "Warning: using -h 0 may be faster\n",
      "*...*..................*...........*\n",
      "optimization finished, #iter = 64561\n",
      "obj = -143449.029737, rho = -0.541820\n",
      "nSV = 14366, nBSV = 11260\n",
      "Total nSV = 14366\n",
      "[LibSVM]................\n",
      "Warning: using -h 0 may be faster\n",
      "*.\n",
      "Warning: using -h 0 may be faster\n",
      "*\n",
      "optimization finished, #iter = 17044\n",
      "obj = -1335.017339, rho = -1.773121\n",
      "nSV = 13841, nBSV = 11004\n",
      "Total nSV = 13841\n",
      "................\n",
      "Warning: using -h 0 may be faster\n",
      "*.\n",
      "Warning: using -h 0 may be faster\n",
      "*\n",
      "optimization finished, #iter = 16940\n",
      "obj = -1325.260129, rho = -1.724729\n",
      "nSV = 13762, nBSV = 10955\n",
      "Total nSV = 13762\n",
      "................\n",
      "Warning: using -h 0 may be faster\n",
      "*\n",
      "optimization finished, #iter = 16837\n",
      "obj = -1337.819343, rho = -1.736019\n",
      "nSV = 13872, nBSV = 10999\n",
      "Total nSV = 13872\n",
      "................\n",
      "Warning: using -h 0 may be faster\n",
      "**.\n",
      "Warning: using -h 0 may be faster\n",
      "*\n",
      "optimization finished, #iter = 16899\n",
      "obj = -1339.958332, rho = -1.788100\n",
      "nSV = 13885, nBSV = 11026\n",
      "Total nSV = 13885\n",
      "................\n",
      "Warning: using -h 0 may be faster\n",
      "**.*\n",
      "optimization finished, #iter = 16994\n",
      "obj = -1336.383256, rho = -1.794800\n",
      "nSV = 13873, nBSV = 11014\n",
      "Total nSV = 13873\n",
      "...................\n",
      "Warning: using -h 0 may be faster\n",
      "*.\n",
      "Warning: using -h 0 may be faster\n",
      "*\n",
      "optimization finished, #iter = 20024\n",
      "obj = -1657.611622, rho = 1.828615\n",
      "nSV = 17151, nBSV = 13175\n",
      "Total nSV = 17151\n",
      "CPU times: user 39min 30s, sys: 6.1 s, total: 39min 36s\n",
      "Wall time: 39min 34s\n"
     ]
    }
   ],
   "source": [
    "%%time\n",
    "\n",
    "svc = SVC(random_state = seed, class_weight = 'balanced', gamma = 'scale', probability = True, verbose = True)\n",
    "\n",
    "parameters = {'C':[0.1, 1, 10], 'kernel': ('rbf', 'linear') }\n",
    "\n",
    "clf_svc = GridSearchCV(svc, parameters, cv = 5).fit(X_train, y_train)"
   ]
  },
  {
   "cell_type": "code",
   "execution_count": 41,
   "metadata": {
    "id": "kH5OhSzboTY4"
   },
   "outputs": [],
   "source": [
    "y_preds = clf_svc.predict_proba(X_test)[:,1]"
   ]
  },
  {
   "cell_type": "code",
   "execution_count": 42,
   "metadata": {
    "id": "bevlWBPhoTY5",
    "outputId": "d707f2dd-60de-4306-f253-537ffc853a75"
   },
   "outputs": [
    {
     "data": {
      "text/plain": [
       "0.7778333333333334"
      ]
     },
     "execution_count": 42,
     "metadata": {},
     "output_type": "execute_result"
    }
   ],
   "source": [
    "clf_svc.score(X_test, y_test)"
   ]
  },
  {
   "cell_type": "code",
   "execution_count": 43,
   "metadata": {
    "id": "qG1lZR6qoTY-",
    "outputId": "0ad8a3d9-9ecc-4ce7-dc11-fc0450276a99"
   },
   "outputs": [
    {
     "data": {
      "text/plain": [
       "2933000"
      ]
     },
     "execution_count": 43,
     "metadata": {},
     "output_type": "execute_result"
    }
   ],
   "source": [
    "total_cost(y_test, y_preds, threshold = 0.5)"
   ]
  },
  {
   "cell_type": "code",
   "execution_count": 44,
   "metadata": {
    "id": "ESe9oQKEoTY_",
    "outputId": "9700e34c-0d6b-45b6-baeb-1770b8923024"
   },
   "outputs": [
    {
     "data": {
      "image/png": "[encoded data removed]",
      "text/plain": [
       "<Figure size 640x480 with 1 Axes>"
      ]
     },
     "metadata": {},
     "output_type": "display_data"
    }
   ],
   "source": [
    "min_cost_threshold(y_test, y_preds)"
   ]
  },
  {
   "cell_type": "code",
   "execution_count": 45,
   "metadata": {
    "id": "ENrn5dfIoTZB",
    "outputId": "0f8ea71b-96aa-4a9f-b7ab-51fdf19e3ba9"
   },
   "outputs": [
    {
     "data": {
      "text/plain": [
       "2497000"
      ]
     },
     "execution_count": 45,
     "metadata": {},
     "output_type": "execute_result"
    }
   ],
   "source": [
    "total_cost(y_test, y_preds, threshold = 0.3)"
   ]
  },
  {
   "cell_type": "markdown",
   "metadata": {
    "id": "AR-Xx8fXoTZI"
   },
   "source": [
    "Melhor valor até agora!"
   ]
  },
  {
   "cell_type": "markdown",
   "metadata": {
    "id": "Kmv8FyejoTZI"
   },
   "source": [
    "#### Decision Trees"
   ]
  },
  {
   "cell_type": "code",
   "execution_count": null,
   "metadata": {
    "id": "ItmRrkAxoTZI",
    "outputId": "93444ca2-7fb2-4ab5-82c7-923cf0d432d7"
   },
   "outputs": [],
   "source": [
    "%%time\n",
    "\n",
    "trees = tree.DecisionTreeClassifier(random_state = seed,  class_weight = 'balanced')\n",
    "\n",
    "parameters = {'max_depth':[3, 6], 'min_samples_split': [2, 4, 10]}\n",
    "\n",
    "clf_tree = GridSearchCV(trees, parameters, cv = 5).fit(X_train, y_train)"
   ]
  },
  {
   "cell_type": "code",
   "execution_count": null,
   "metadata": {
    "id": "PaPik2dcoTZK",
    "outputId": "1dec5558-643c-497d-a71f-7be76882795f"
   },
   "outputs": [],
   "source": [
    "clf_tree.best_estimator_"
   ]
  },
  {
   "cell_type": "code",
   "execution_count": null,
   "metadata": {
    "id": "auDyZ6mvoTZM",
    "outputId": "873f767e-73ca-4cf6-abb5-2cfe67f09c49"
   },
   "outputs": [],
   "source": [
    "y_preds = clf_tree.predict_proba(X_test)[:,1]\n",
    "\n",
    "clf_tree.score(X_test, y_test)"
   ]
  },
  {
   "cell_type": "code",
   "execution_count": null,
   "metadata": {
    "id": "SGi0htiIoTZP",
    "outputId": "d77e6b4c-3e89-4943-b8a1-114ad0689d62"
   },
   "outputs": [],
   "source": [
    "total_cost(y_test, y_preds, threshold = 0.5)"
   ]
  },
  {
   "cell_type": "code",
   "execution_count": null,
   "metadata": {
    "id": "jfxbT03QoTZQ",
    "outputId": "6935798a-290b-4d82-bb36-460c30b2e53f"
   },
   "outputs": [],
   "source": [
    "min_cost_threshold(y_test, y_preds)"
   ]
  },
  {
   "cell_type": "code",
   "execution_count": null,
   "metadata": {
    "id": "I1DCG_9SoTZT",
    "outputId": "172ab5f6-b76d-4ca5-f90c-7ce81c1cf078"
   },
   "outputs": [],
   "source": [
    "total_cost(y_test, y_preds, threshold = 0.5)"
   ]
  },
  {
   "cell_type": "markdown",
   "metadata": {
    "id": "aZN8lZcdoTZW"
   },
   "source": [
    "SVMs continuam a ganhar."
   ]
  },
  {
   "cell_type": "markdown",
   "metadata": {
    "id": "onKHTak6oTZY"
   },
   "source": [
    "#### Random Forests"
   ]
  },
  {
   "cell_type": "code",
   "execution_count": null,
   "metadata": {
    "id": "ymFXEgshoTZY",
    "outputId": "c7298f96-1db1-43ca-80e1-55847007e767"
   },
   "outputs": [],
   "source": [
    "%%time \n",
    "rf = RandomForestClassifier(random_state = seed,  class_weight = 'balanced').fit(X_train, y_train)\n",
    "\n",
    "parameters = {'n_estimators':[10, 100, 300, 1000]}\n",
    "\n",
    "clf_rf = GridSearchCV(rf, parameters, cv = 5).fit(X_train, y_train)"
   ]
  },
  {
   "cell_type": "code",
   "execution_count": null,
   "metadata": {
    "id": "ic2hsu3foTZZ",
    "outputId": "2f3fb76d-c6a6-4859-d5d6-649ed6843324"
   },
   "outputs": [],
   "source": [
    "y_preds = clf_rf.predict_proba(X_test)[:,1]\n",
    "\n",
    "clf_rf.score(X_test, y_test)"
   ]
  },
  {
   "cell_type": "code",
   "execution_count": null,
   "metadata": {
    "id": "-pbnDC_qoTZe",
    "outputId": "0fdf1f8d-1b98-4e30-ce5a-5d2c5d11cc2a"
   },
   "outputs": [],
   "source": [
    "min_cost_threshold(y_test, y_preds)"
   ]
  },
  {
   "cell_type": "code",
   "execution_count": null,
   "metadata": {
    "id": "vlXoIu4AoTZg",
    "outputId": "62de4258-129d-4214-ce35-ceda7fd071fc"
   },
   "outputs": [],
   "source": [
    "total_cost(y_test, y_preds, threshold = 0.3)"
   ]
  },
  {
   "cell_type": "markdown",
   "metadata": {
    "id": "nME9KFm5oTZi"
   },
   "source": [
    "Melhor resultado até agora!"
   ]
  },
  {
   "cell_type": "markdown",
   "metadata": {
    "id": "JEexZC_3oTZi"
   },
   "source": [
    "#### Neural Networks"
   ]
  },
  {
   "cell_type": "code",
   "execution_count": null,
   "metadata": {
    "id": "Mc3hug4toTZi",
    "outputId": "cf7caede-f346-4f88-b5bd-f05f19988928"
   },
   "outputs": [],
   "source": [
    "X_train.shape"
   ]
  },
  {
   "cell_type": "code",
   "execution_count": null,
   "metadata": {
    "id": "JTXeSq2IoTZk",
    "outputId": "bd74d5ab-d220-4b1c-cf5a-1c42ed9e7687"
   },
   "outputs": [],
   "source": [
    "%%time\n",
    "\n",
    "mlp = MLPClassifier(solver = 'lbfgs',  random_state = seed, max_iter = 1000 )\n",
    "\n",
    "parameters = {'hidden_layer_sizes': [(20,), (20,10), (20, 10, 2)], 'learning_rate_init':[0.0001, 0.001, 0.01, 0.1]}\n",
    "\n",
    "clf_mlp = GridSearchCV(mlp, parameters, cv = 5).fit(X_train, y_train)"
   ]
  },
  {
   "cell_type": "code",
   "execution_count": null,
   "metadata": {
    "id": "qPXMXpUCoTZm",
    "outputId": "acb4cfaa-898d-4ab0-895f-9ef5ae6ee426"
   },
   "outputs": [],
   "source": [
    "clf_mlp.best_estimator_"
   ]
  },
  {
   "cell_type": "code",
   "execution_count": null,
   "metadata": {
    "id": "vX3yMHwnoTZo",
    "outputId": "e67e8c66-c151-4fee-970f-465c4da0c200"
   },
   "outputs": [],
   "source": [
    "clf_mlp.best_score_"
   ]
  },
  {
   "cell_type": "code",
   "execution_count": null,
   "metadata": {
    "id": "uahDxhL9oTZp",
    "outputId": "fb16de3c-e872-4ba6-f14d-c260704987a2"
   },
   "outputs": [],
   "source": [
    "y_preds = clf_mlp.predict_proba(X_test)[:,1]\n",
    "\n",
    "clf_mlp.score(X_test, y_test)\n"
   ]
  },
  {
   "cell_type": "code",
   "execution_count": null,
   "metadata": {
    "id": "qIIPT3rVoTZt",
    "outputId": "47cb6825-1887-4691-abf6-7178b93d0c02"
   },
   "outputs": [],
   "source": [
    "min_cost_threshold(y_test, y_preds)"
   ]
  },
  {
   "cell_type": "code",
   "execution_count": null,
   "metadata": {
    "id": "mP6dp8RxoTZu",
    "outputId": "0a26fff0-223b-40f0-f81b-6201798873a8"
   },
   "outputs": [],
   "source": [
    "total_cost(y_test, y_preds, threshold = 0.2)"
   ]
  },
  {
   "cell_type": "markdown",
   "metadata": {
    "id": "zQmmEFlJoTZx"
   },
   "source": [
    "Resultado quase igual às random forests!"
   ]
  },
  {
   "cell_type": "markdown",
   "metadata": {
    "id": "zgk77FQFoTZy"
   },
   "source": [
    "#### 3. Qual o modelo que levou a melhores resultados? Qual a métrica usada para comparar os diferentes modelos?"
   ]
  },
  {
   "cell_type": "markdown",
   "metadata": {
    "collapsed": true,
    "id": "U0Mkt4OMoTZy"
   },
   "source": [
    "- A métrica usada foi o custo total uma vez que o objetivo do modelo era diminuir os custos do banco. O Modelo que levou a melhores resultados foram as neural networks e as random forests - 2,467,000 de custo.  \n",
    "- Visto que com as neural networks não consigo saber qual a importancia das features, vou eleger o modelo de random forests como a solução final. Para além disso o treino das neural networks demorou quase o dobro do tempo."
   ]
  },
  {
   "cell_type": "markdown",
   "metadata": {
    "id": "mVJKauqYoTZz"
   },
   "source": [
    "#### 4. Quais são as features mais relevantes para decidir se um cliente tem mais propensão para ser mau pagador?"
   ]
  },
  {
   "cell_type": "code",
   "execution_count": null,
   "metadata": {
    "id": "GNUyR7O2oTZz"
   },
   "outputs": [],
   "source": [
    "rf = RandomForestClassifier(**clf_rf.best_params_).fit(X_train, y_train)"
   ]
  },
  {
   "cell_type": "code",
   "execution_count": null,
   "metadata": {
    "id": "wkHKRuXSoTZ2",
    "outputId": "7e37bc69-716f-438c-fdaf-b75fd8890f07"
   },
   "outputs": [],
   "source": [
    "important_features = pd.DataFrame(data = rf.feature_importances_, index = X_train.columns, columns = ['value'])\n",
    "important_features.sort_values(by = 'value', ascending = False)"
   ]
  },
  {
   "cell_type": "markdown",
   "metadata": {
    "id": "ghSi-XhToTZ5"
   },
   "source": [
    "As variaveis que mais contribuem para o modelo decidir se um cliente vai ser um bom ou mau pagador são:\n",
    "    - PAY_0 - Repayment status in September, 2005 \n",
    "    - e AGE - idade do cliente\n",
    "    "
   ]
  },
  {
   "cell_type": "markdown",
   "metadata": {
    "id": "eP5wGYdeoTZ5"
   },
   "source": [
    "#### 5. Qual seria o custo que o banco tem sem nenhum modelo?\n",
    "\n",
    "    - O custo que o banco teria sem modelo, ou seja, assumindo que todos os clientes seriam bons pagadores, é de: 3,939,000 Euros."
   ]
  },
  {
   "cell_type": "markdown",
   "metadata": {
    "id": "kO68aHLLoTZ5"
   },
   "source": [
    "#### 6. Qual o custo que o banco passa a tar com o vosso modelo?"
   ]
  },
  {
   "cell_type": "markdown",
   "metadata": {
    "id": "akgtZK10oTZ5"
   },
   "source": [
    "- O custo que o banco teria com o modelo seria de: 2,476,000 Euros - Pouparia quase 1 Milhão e meio de Euros!"
   ]
  }
 ],
 "metadata": {
  "colab": {
   "collapsed_sections": [
    "tUhtD10ioTYV",
    "nfjkWZh4oTYj",
    "Aphz-nLGoTY1",
    "Kmv8FyejoTZI",
    "onKHTak6oTZY",
    "JEexZC_3oTZi",
    "zgk77FQFoTZy",
    "mVJKauqYoTZz",
    "eP5wGYdeoTZ5",
    "kO68aHLLoTZ5"
   ],
   "name": "final_exercice_solution.ipynb",
   "provenance": []
  },
  "interpreter": {
   "hash": "458393e0d725110a6d0a7c08e796de430035df3893ff37c15fbe20afef919c4b"
  },
  "kernelspec": {
   "display_name": "Python 3.7.11 64-bit ('rumos_bank': conda)",
   "name": "python3"
  },
  "language_info": {
   "codemirror_mode": {
    "name": "ipython",
    "version": 3
   },
   "file_extension": ".py",
   "mimetype": "text/x-python",
   "name": "python",
   "nbconvert_exporter": "python",
   "pygments_lexer": "ipython3",
   "version": "3.11.9"
  }
 },
 "nbformat": 4,
 "nbformat_minor": 0
}
